{
 "cells": [
  {
   "cell_type": "markdown",
   "metadata": {},
   "source": [
    "# Práctica 0: Repaso de las funcionalidades de Pandas\n",
    "## Máster IoT. Tratamiento de datos Masivos"
   ]
  },
  {
   "cell_type": "raw",
   "metadata": {},
   "source": [
    "Nombre y apellidos:"
   ]
  },
  {
   "cell_type": "markdown",
   "metadata": {},
   "source": [
    "\n",
    "\n",
    "## Creación de dataframes\n",
    "\n",
    "Crear dataframes con la información de los siguientes ficheros. \n",
    "\n",
    "El contenido y el formato de los ficheros no se puede modificar.\n",
    "\n",
    "\n",
    "* Dataframe `caracteristicas` : `features.xlsx`\n",
    "  Contiene datos extraídos del portal de Idealista referentes a propiedades en venta que se anuncian en su sitio web. A continuación, se detalla la descripción de los campos:\n",
    "  \n",
    "  * `code`: código de propiedad\n",
    "  * `numPhotos` : número de fotos\n",
    "  * `floor`: Número de plantas   \n",
    "  * `size_m2`: tamaño en metros cuadrados\n",
    "  * `exterior`: indica si es exterior o no\n",
    "  * `rooms`: número de habitaciones\n",
    "  * `bathrooms`: número de baños  \n",
    "  * `hasLift`: indica si tiene ascensor o no\n",
    "  * `price` : precio \n",
    "  * `status`: estado de conservación\n",
    "  \n",
    "* Dataframe `propiedades`:  `properties.xlsx`   Contiene información asociada a las propiedades. Los campos son:\n",
    "  * `propertyCode`: código de propiedad\n",
    "  * `externalReference`: referencia\n",
    "  * `propertyType`: tipo de propiedad\n",
    "  * `municipality`  : municipio     \n",
    "  * `district`: distrito\n",
    "  * `latitude`: latitud\n",
    "  * `longitude`: longitud  \n",
    "  * `priceByArea`: precio del metro cuadrado\n",
    "  * `neighborhood`: vecindario al que pertenece la propiedad\n",
    "\n",
    "\n",
    "Puedes usar la función `read_excel`."
   ]
  },
  {
   "cell_type": "code",
   "execution_count": 12,
   "metadata": {},
   "outputs": [],
   "source": [
    "# Sol:\n",
    "import pandas as pd\n",
    "\n"
   ]
  },
  {
   "cell_type": "markdown",
   "metadata": {},
   "source": [
    "## Pregunta 1\n",
    "Muestra la información sobre la estructura de ambas tablas. Para ello puedes usar el método `info`.\n",
    "* Explora los tipos de datos de cada una de las columnas. \n",
    "* Localiza la información sobre los valores nulos de las columnas.\n",
    "\n",
    "\n",
    "__(a)__ ¿Cuántos valores nulos hay en la columna `floor` de la tabla `características`.?\n",
    "\n",
    "__(b)__ ¿Cuántas filas tiene cada una de las tablas?"
   ]
  },
  {
   "cell_type": "code",
   "execution_count": null,
   "metadata": {},
   "outputs": [],
   "source": []
  },
  {
   "cell_type": "markdown",
   "metadata": {},
   "source": [
    "## Pregunta 2\n"
   ]
  },
  {
   "cell_type": "markdown",
   "metadata": {},
   "source": [
    "La columna `propertyType` recoge información del tipo de propiedad ofertada en Idealista. Muestra los distintos tipos de propiedad disponibles. Puedes usar los métodos `unique` o `value_counts`. \n",
    "Describe lo que hacen estas funciones y la direrencia entre ellas."
   ]
  },
  {
   "cell_type": "code",
   "execution_count": 13,
   "metadata": {},
   "outputs": [],
   "source": [
    "# Sol:\n"
   ]
  },
  {
   "cell_type": "markdown",
   "metadata": {},
   "source": [
    "## Pregunta 3"
   ]
  },
  {
   "cell_type": "markdown",
   "metadata": {},
   "source": [
    "La columna `priceByArea` recoge información acerca del precio por metro cuadrado en la zona de ubicación de la propiedad. Crea un nuevo dataframe  que contenga únicamente aquellas propiedades cuyo precio por metro cuadrado supere los 2600€. El nuevo dataframe ha de llamarse `high_level`.\n",
    "\n",
    "Para resolver este caso, es necesario crear un filtro o máscara y luego aplicar la máscara al dataframe original. Puedes encontrar información en la sección `Más consultas` del documento `t1_intro_pandas`."
   ]
  },
  {
   "cell_type": "code",
   "execution_count": 14,
   "metadata": {},
   "outputs": [],
   "source": [
    "# Sol:\n"
   ]
  },
  {
   "cell_type": "markdown",
   "metadata": {},
   "source": [
    "## Pregunta 4"
   ]
  },
  {
   "cell_type": "markdown",
   "metadata": {},
   "source": [
    "La columna `status` recoge información acerca del estado de conservación de la propiedad.  La columna `size` recoge información acerca del tamaño de la propiedad. Crea un nuevo dataframe  que contenga únicamente aquellas propiedades con más de 250 metros cuadrados cuyo estado de conservación sea `good`. El nuevo dataframe ha de llamarse `good`.\n",
    "\n",
    "Para resolver este caso, es necesario crear un filtro o máscara y luego aplicar la máscara al dataframe original. Puedes encontrar información en la sección `Más consultas` del documento `t1_intro_pandas`. Recuerda que el operador `and` y `or` no se comportan en pandas como es habitual. Estos operadores actuan sobre el dataframe completo. Pero en pandas necesitamos un operador que actúe elemento a elemento. Estos operadores son `$` para la conjunción y  `|` para la disyunción. "
   ]
  },
  {
   "cell_type": "code",
   "execution_count": 15,
   "metadata": {},
   "outputs": [],
   "source": [
    "# Sol:\n"
   ]
  },
  {
   "cell_type": "markdown",
   "metadata": {},
   "source": [
    "## Pregunta 5"
   ]
  },
  {
   "cell_type": "markdown",
   "metadata": {},
   "source": [
    "Crear un nuevo dataframe llamado `ordenadas` donde las propiedades se encuentren ordenadas siguiendo el siguiente criterio:  Ordenar las propiedades por precio(creciente), tamaño de la propiedad(creciente) y número de habitaciones(decreciente). \n",
    "Usa el método `sort_values`."
   ]
  },
  {
   "cell_type": "code",
   "execution_count": 16,
   "metadata": {},
   "outputs": [],
   "source": [
    "# Sol:\n"
   ]
  },
  {
   "cell_type": "markdown",
   "metadata": {},
   "source": [
    "## Pregunta 6"
   ]
  },
  {
   "attachments": {},
   "cell_type": "markdown",
   "metadata": {},
   "source": [
    "Modifica el dataframe `propiedades`. La columna `priceByArea` indica el precio por metro cuadrado en la zona. Crea una nueva columna llamada `category` cuyo valor sea `H` si el precio por metro cuadrado es superior a 1500€ y  `L` en caso contrario. \n",
    "\n",
    "Este caso no tiene una única solución. Puedes usar la función `map`.\n",
    "En algunos casos, es necesario transformar columnas o crear columnas nuevas mediante la aplicación de operaciones complejas u operaciones basadas en múltiples columnas. Python en un lenguaje funcional e implementa algunas de las características de los lenguajes funcionales, como es la aplicación de funciones. Las funciones `map`, `apply`, y `applymap` son funciones que se utilizan para aplicar transformaciones más sofisticadas a los datos.\n",
    "Puedes encontrar algunos ejemplos en `t3_pandas_map`."
   ]
  },
  {
   "cell_type": "code",
   "execution_count": 17,
   "metadata": {},
   "outputs": [],
   "source": [
    "# Sol:\n"
   ]
  },
  {
   "cell_type": "markdown",
   "metadata": {},
   "source": [
    "## Pregunta 7"
   ]
  },
  {
   "cell_type": "markdown",
   "metadata": {},
   "source": [
    "Calcular el precio máximo del metro cuadrado de las propiedades por municipio y distrito.\n",
    "Aquí tenemos que realizar una operación de agrupación de tipo `group_by`.\n",
    "\n",
    "Podéis encontrar algunos ejemplos en https://pandas.pydata.org/docs/reference/api/pandas.DataFrame.groupby.html"
   ]
  },
  {
   "cell_type": "code",
   "execution_count": 18,
   "metadata": {},
   "outputs": [],
   "source": [
    "# Sol:\n"
   ]
  },
  {
   "cell_type": "markdown",
   "metadata": {},
   "source": [
    "## Pregunta 8"
   ]
  },
  {
   "cell_type": "markdown",
   "metadata": {},
   "source": [
    "Calcular el precio medio de las propiedades por status y número de habitaciones.\n",
    "Aquí tenemos que realizar una operación de agrupación de tipo `group_by`.\n",
    "\n",
    "Podéis encontrar algunos ejemplos en https://pandas.pydata.org/docs/reference/api/pandas.DataFrame.groupby.html"
   ]
  },
  {
   "cell_type": "code",
   "execution_count": 19,
   "metadata": {},
   "outputs": [],
   "source": [
    "# Sol:\n"
   ]
  },
  {
   "cell_type": "markdown",
   "metadata": {},
   "source": [
    "## Pregunta 9"
   ]
  },
  {
   "cell_type": "markdown",
   "metadata": {},
   "source": [
    "La columna `neighborhood` recoge información adicional acerca de las características del entorno de la propiedad. \n",
    "* Averigua cuántos valores NaN existen en dicha columna. \n",
    "* Sustituye los valores NaN de dicha columna por el valor \"No comments\"\n",
    "\n",
    "Existen varios métodos que me permiten estudiar y tratar los nulos: `isna`, `isnull`, `notna`, `notnull`. \n",
    "La operación `fillna` te ayudará a resolver este ajercicio.\n",
    "\n",
    "\n",
    "Usa estas funciones y describe lo que hace cada una de ellas."
   ]
  },
  {
   "cell_type": "code",
   "execution_count": 20,
   "metadata": {},
   "outputs": [],
   "source": [
    "# Sol:\n"
   ]
  },
  {
   "cell_type": "markdown",
   "metadata": {},
   "source": [
    "## Pregunta 10"
   ]
  },
  {
   "cell_type": "markdown",
   "metadata": {},
   "source": [
    "Calcula el salario medio de las propiedades con ascensor situadas en el municipio de Móstoles.\n",
    "En este caso, la consulta se refiere a varios dataframes.\n",
    "Para resolverlo, podemos realizar un join de las tablas (como en SQL) usando la operación `merge`.\n",
    "La ejeccución de la siguiente celda te dará ayuda y algunos ejemplos (al final).\n",
    "Fíjate en los argumentos ` left_on` y  `right_on`.\n"
   ]
  },
  {
   "cell_type": "code",
   "execution_count": 21,
   "metadata": {},
   "outputs": [],
   "source": [
    "pd.merge?"
   ]
  },
  {
   "cell_type": "code",
   "execution_count": 22,
   "metadata": {},
   "outputs": [],
   "source": [
    "# Sol:\n"
   ]
  },
  {
   "cell_type": "markdown",
   "metadata": {},
   "source": [
    "## Pregunta 11\n",
    "\n",
    "Calcula el número de propiedades situadas en Fuenlabrada que cuentan con ascensor (campo `hasLift`).\n",
    "\n",
    "Una vez resuelto la pregunta 10, no deberías tener problemas aquí."
   ]
  },
  {
   "cell_type": "code",
   "execution_count": 23,
   "metadata": {},
   "outputs": [],
   "source": [
    "# Sol:\n"
   ]
  },
  {
   "cell_type": "markdown",
   "metadata": {},
   "source": [
    "## Pregunta 12\n",
    "\n",
    "Un valor atípico es una observación que se aleja demasiado de la media; esta muy lejos de la tendencia principal del resto de los datos. Pueden ser causados por errores en la recolección de datos o medidas inusuales. Generalmente se recomienda eliminarlos del conjunto de datos.\n",
    "\n",
    "Para detectarlos hay varias técnicas. Una técnica no paramétrica es mediante el cálculo del rango intercuartílico (IQR). IQR es el rango entre el primer y el tercer cuartil: IQR=Q3−Q1\n",
    "\n",
    "Los puntos de datos que caen por debajo de Q1−1.5×IQR o por encima de Q3+1.5×IQR son valores atípicos.\n",
    "\n",
    "Se pide: calcular los valores atípicos de las columna `price` de la tabla `características`.\n",
    "Con el método `quantile` podrás calcular los cuartiles Q1 y Q3.\n"
   ]
  },
  {
   "cell_type": "code",
   "execution_count": 24,
   "metadata": {},
   "outputs": [
    {
     "data": {
      "text/plain": [
       "<AxesSubplot: >"
      ]
     },
     "execution_count": 24,
     "metadata": {},
     "output_type": "execute_result"
    },
    {
     "data": {
      "image/png": "[encoded data removed]",
      "text/plain": [
       "<Figure size 640x480 with 1 Axes>"
      ]
     },
     "metadata": {},
     "output_type": "display_data"
    }
   ],
   "source": [
    "from scipy import stats\n",
    "import numpy as np\n",
    "from matplotlib import pyplot as plt\n",
    "f.price.plot(kind = 'box')"
   ]
  },
  {
   "cell_type": "code",
   "execution_count": null,
   "metadata": {},
   "outputs": [],
   "source": []
  },
  {
   "cell_type": "code",
   "execution_count": null,
   "metadata": {},
   "outputs": [],
   "source": []
  }
 ],
 "metadata": {
  "hide_input": false,
  "kernelspec": {
   "display_name": "Python 3 (ipykernel)",
   "language": "python",
   "name": "python3"
  },
  "language_info": {
   "codemirror_mode": {
    "name": "ipython",
    "version": 3
   },
   "file_extension": ".py",
   "mimetype": "text/x-python",
   "name": "python",
   "nbconvert_exporter": "python",
   "pygments_lexer": "ipython3",
   "version": "3.10.7"
  },
  "nbTranslate": {
   "displayLangs": [
    "en",
    "es"
   ],
   "hotkey": "alt-t",
   "langInMainMenu": true,
   "sourceLang": "es",
   "targetLang": "en",
   "useGoogleTranslate": true
  },
  "toc": {
   "base_numbering": 1,
   "nav_menu": {},
   "number_sections": true,
   "sideBar": true,
   "skip_h1_title": false,
   "title_cell": "Table of Contents",
   "title_sidebar": "Contents",
   "toc_cell": false,
   "toc_position": {
    "height": "calc(100% - 180px)",
    "left": "10px",
    "top": "150px",
    "width": "165px"
   },
   "toc_section_display": true,
   "toc_window_display": true
  }
 },
 "nbformat": 4,
 "nbformat_minor": 2
}
