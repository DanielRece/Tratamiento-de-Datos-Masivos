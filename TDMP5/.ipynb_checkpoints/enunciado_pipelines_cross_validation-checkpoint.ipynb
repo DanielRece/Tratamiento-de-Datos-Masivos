{
 "cells": [
  {
   "cell_type": "markdown",
   "metadata": {
    "toc": true
   },
   "source": [
    "<h1>Table of Contents<span class=\"tocSkip\"></span></h1>\n",
    "<div class=\"toc\"><ul class=\"toc-item\"><li><span><a href=\"#Práctica\" data-toc-modified-id=\"Práctica-1\">Práctica</a></span><ul class=\"toc-item\"><li><span><a href=\"#Regresión-con-PySpark\" data-toc-modified-id=\"Regresión-con-PySpark-1.1\">Regresión con PySpark</a></span></li></ul></li><li><span><a href=\"#Problema\" data-toc-modified-id=\"Problema-2\">Problema</a></span><ul class=\"toc-item\"><li><span><a href=\"#Estrategia\" data-toc-modified-id=\"Estrategia-2.1\">Estrategia</a></span></li><li><span><a href=\"#Pasos-a-seguir\" data-toc-modified-id=\"Pasos-a-seguir-2.2\">Pasos a seguir</a></span></li><li><span><a href=\"#Preparando-el-entorno\" data-toc-modified-id=\"Preparando-el-entorno-2.3\">Preparando el entorno</a></span></li><li><span><a href=\"#Carga-de-datos\" data-toc-modified-id=\"Carga-de-datos-2.4\">Carga de datos</a></span></li><li><span><a href=\"#Análisis-exploratorio\" data-toc-modified-id=\"Análisis-exploratorio-2.5\">Análisis exploratorio</a></span><ul class=\"toc-item\"><li><span><a href=\"#Análisis-de-nulos\" data-toc-modified-id=\"Análisis-de-nulos-2.5.1\">Análisis de nulos</a></span></li><li><span><a href=\"#Borrado-de-columnas-con-muchos-nulos\" data-toc-modified-id=\"Borrado-de-columnas-con-muchos-nulos-2.5.2\">Borrado de columnas con muchos nulos</a></span></li><li><span><a href=\"#Tipos-de-datos\" data-toc-modified-id=\"Tipos-de-datos-2.5.3\">Tipos de datos</a></span><ul class=\"toc-item\"><li><span><a href=\"#Transformación-de-características\" data-toc-modified-id=\"Transformación-de-características-2.5.3.1\">Transformación de características</a></span></li><li><span><a href=\"#La-variable--recent_trend\" data-toc-modified-id=\"La-variable--recent_trend-2.5.3.2\">La variable  <code>recent_trend</code></a></span></li><li><span><a href=\"#Resto-de-variables\" data-toc-modified-id=\"Resto-de-variables-2.5.3.3\">Resto de variables</a></span></li></ul></li></ul></li></ul></li><li><span><a href=\"#Creación-de-modelos-y-comparación\" data-toc-modified-id=\"Creación-de-modelos-y-comparación-3\">Creación de modelos y comparación</a></span></li></ul></div>"
   ]
  },
  {
   "cell_type": "markdown",
   "metadata": {
    "lang": "es"
   },
   "source": [
    "# Práctica\n",
    "\n",
    "## Regresión con PySpark"
   ]
  },
  {
   "cell_type": "code",
   "execution_count": 1,
   "metadata": {},
   "outputs": [],
   "source": [
    "# Curso: TDM - 2022/2023\n",
    "# Nombre:\n",
    "# Apellidos:\n",
    "# Fecha:"
   ]
  },
  {
   "cell_type": "markdown",
   "metadata": {},
   "source": [
    "- Se valorará la claridad del código y evitar redundancias o código poco eficiente. \n",
    "- Además de las funciones que se piden se pueden añadir otras auxiliares si se necesitan, y también otros imports\n",
    "- El código debe funcionar correctamente no solo con las pruebas que vienen de ejemplo sino con cualquier otra prueba\n",
    "\n",
    "\n"
   ]
  },
  {
   "cell_type": "markdown",
   "metadata": {
    "lang": "es"
   },
   "source": [
    "# Problema\n",
    "\n",
    "Disponemos de datos de salud para poblaciones de EEUU. Queremos saber si los \n",
    "grupos de bajos ingresos tienen mayor riesgo de ser diagnosticados y morir de cáncer (cancer del pulmón). "
   ]
  },
  {
   "cell_type": "markdown",
   "metadata": {
    "lang": "es"
   },
   "source": [
    "## Estrategia\n",
    "\n",
    "El gobierno de EEUU ha publicado datos abiertos con los que vamos a trabajar. Se trata de datos sobre incidencia y mortalidad del cáncer. También otros datos sobre la Comunidad Estadounidense con una multitud de variables adicionales que podemos optar por incluir en nuestro modelo.\n",
    "\n",
    "\n",
    "## Pasos a seguir\n",
    "\n",
    "1. Limpieza y preparación de los datos\n",
    "2. Análisis exploratorio\n",
    "3. Modelo estadístico\n",
    "4. Visualizaciones\n"
   ]
  },
  {
   "cell_type": "markdown",
   "metadata": {},
   "source": [
    "## Preparando el entorno"
   ]
  },
  {
   "cell_type": "code",
   "execution_count": 2,
   "metadata": {},
   "outputs": [
    {
     "name": "stdout",
     "output_type": "stream",
     "text": [
      "Checking required modules\n",
      "findspark  found\n",
      "pyspark  found\n",
      "urllib  found\n",
      "pyspark_dist_explore  found\n",
      "Done!\n"
     ]
    }
   ],
   "source": [
    "import os.path\n",
    "from subprocess import check_call\n",
    "import importlib\n",
    "import urllib\n",
    "import os\n",
    "import sys\n",
    "\n",
    "modules = [\"findspark\",\"pyspark\",\"urllib\",\"pyspark_dist_explore\"]\n",
    "\n",
    "if 'google.colab' in sys.modules:\n",
    "    !apt-get install openjdk-8-jdk-headless -qq > /dev/null\n",
    "    spark = \"spark-3.2.0-bin-hadoop3.2.tgz\"\n",
    "    if not os.path.isfile(spark):\n",
    "        !wget -q https://downloads.apache.org/spark/spark-3.2.0/{spark}\n",
    "        !tar xf {spark}\n",
    "        os.environ[\"JAVA_HOME\"] = \"/usr/lib/jvm/java-8-openjdk-amd64\"\n",
    "        os.environ[\"SPARK_HOME\"] = \"/content/spark-3.2.0-bin-hadoop3.2\"\n",
    "\n",
    "print(\"Checking required modules\")\n",
    "for m in modules:\n",
    "    torch_loader = importlib.util.find_spec(m)\n",
    "    if torch_loader is not None:\n",
    "        print(m,\" found\")\n",
    "    else:\n",
    "        print(m,\" not found, installing\")\n",
    "        if 'google.colab' in sys.modules:\n",
    "            check_call([\"pip\", \"install\", \"-q\", m])\n",
    "        else:\n",
    "            check_call([sys.executable, \"-m\", \"pip\", \"install\", \"--user\", m])\n",
    "print(\"Done!\")"
   ]
  },
  {
   "cell_type": "code",
   "execution_count": 3,
   "metadata": {},
   "outputs": [
    {
     "name": "stdout",
     "output_type": "stream",
     "text": [
      "23/11/22 17:20:35 WARN Utils: Your hostname, danrec-HP-Pavilion-Gaming-Laptop-15-ec0xxx resolves to a loopback address: 127.0.1.1; using 10.8.2.106 instead (on interface wlo1)\n",
      "23/11/22 17:20:35 WARN Utils: Set SPARK_LOCAL_IP if you need to bind to another address\n"
     ]
    },
    {
     "name": "stderr",
     "output_type": "stream",
     "text": [
      "Setting default log level to \"WARN\".\n",
      "To adjust logging level use sc.setLogLevel(newLevel). For SparkR, use setLogLevel(newLevel).\n"
     ]
    },
    {
     "name": "stdout",
     "output_type": "stream",
     "text": [
      "23/11/22 17:20:36 WARN NativeCodeLoader: Unable to load native-hadoop library for your platform... using builtin-java classes where applicable\n",
      "23/11/22 17:20:37 WARN Utils: Service 'SparkUI' could not bind on port 4040. Attempting port 4041.\n",
      "+-----+\n",
      "| hola|\n",
      "+-----+\n",
      "|spark|\n",
      "+-----+\n",
      "\n"
     ]
    }
   ],
   "source": [
    "from pyspark_dist_explore import hist\n",
    "import matplotlib.pyplot as plt\n",
    "\n",
    "import findspark\n",
    "findspark.init()\n",
    "\n",
    "import pyspark                         # only run after findspark.init()\n",
    "from pyspark.sql import SparkSession\n",
    "import pyspark.sql.functions as f\n",
    "\n",
    "\n",
    "spark = SparkSession.builder.getOrCreate()\n",
    "sc = spark.sparkContext                        # para trabajar con RDD's\n",
    "\n",
    "df = spark.sql('''select 'spark' as hola ''')\n",
    "df.show()"
   ]
  },
  {
   "cell_type": "markdown",
   "metadata": {},
   "source": [
    "## Carga de datos"
   ]
  },
  {
   "cell_type": "code",
   "execution_count": 6,
   "metadata": {},
   "outputs": [],
   "source": [
    "def load_file(file):\n",
    "    df = spark.read.format(\"com.databricks.spark.csv\")\\\n",
    "            .options(header='true', inferschema='true') \\\n",
    "            .load(file)\n",
    "    return df"
   ]
  },
  {
   "cell_type": "code",
   "execution_count": 7,
   "metadata": {},
   "outputs": [],
   "source": [
    "# Sol:\n",
    "\n",
    "def create_spark_dataframe(file):\n",
    "    df = spark.read.format(\"com.databricks.spark.csv\").options(sep = ';',header='true', inferschema='true').load(file)\n",
    "    return df\n",
    "\n",
    "# primero lo descargamos en local\n",
    "url = \"https://raw.githubusercontent.com/ygarciar/Datasets/main/fulldf.csv\"\n",
    "file = \"./fulldf.csv\"\n",
    "urllib.request.urlretrieve(url,file)\n",
    "\n",
    "# ahora llamamos a la función\n",
    "fulldf = create_spark_dataframe(file)"
   ]
  },
  {
   "cell_type": "markdown",
   "metadata": {},
   "source": [
    "__Descripción de los datos__\n",
    "\n",
    "\n",
    "`State` \t, estado\t\n",
    "`AreaName` , área\t\t\n",
    "`All_Poverty`, \tBoth male and female reported below poverty line \t\n",
    "`M_Poverty` ,\tMales below poverty \t\n",
    "`F_Poverty`, \tFemales below poverty \t\n",
    "`FIPS`, \tState + County FIPS \t\n",
    "`Med_Income`: Ingreso medio todas las étnias\n",
    "`Med_Income_White`, Ingreso medio comunidad blanca\n",
    "`Med_Income_Black`, Ingreso medio comunidad negra\n",
    "`Med_Income_Nat_Am`, Ingreso medio nativos americanos\n",
    "`Med_Income_Asian`, Ingreso medio comunidad asiática\n",
    "`Hispanic`    , Ingreso medio comunidad hispana \t\n",
    "`M_With`, \tMales with health insurance \t\n",
    "`M_Without`, \tMales without health insurance \n",
    "`F_With`, \tFemales with health insurance\t\n",
    "`F_Without`, \tFemales without health insurance \t\n",
    "`All_With`, \tMales and Femaes with health ins. \t\n",
    "`All_Without`, \tMales an Females without health ins \t\n",
    "`Incidence_Rate` ,\tLung cancer incidence rate (per 100,000)\t'\\*' = fewer that 16 reported cases\n",
    "`Avg_Ann_Incidence` ,\tAverage lung cancer incidence rate \t\n",
    "`recent_trend`, \tRecent trend (incidence) \t\n",
    "`Mortality_Rate` ,\tLung cancer mortality rate (per 100,000) \t'\\*' = fewer that 16 reported cases\n",
    "`Avg_Ann_Deaths`, \tAverage lung cancer mortalities \n",
    "\n",
    "`POPESTIMATE2015` : Población del estado\n",
    "\n",
    "\n",
    "Tasas de mortalidad normalizadas: per cápita (100.000)"
   ]
  },
  {
   "cell_type": "markdown",
   "metadata": {
    "lang": "es"
   },
   "source": [
    "## Análisis exploratorio\n",
    "\n",
    "* ¿Cantidad de datos?\n",
    "* Columnas y sus tipos\n",
    "* Primeras filas"
   ]
  },
  {
   "cell_type": "code",
   "execution_count": 13,
   "metadata": {},
   "outputs": [
    {
     "name": "stdout",
     "output_type": "stream",
     "text": [
      "(3134, 24)\n",
      "+-----+--------------------+-----------+---------+---------+----+----------+----------------+----------------+-----------------+----------------+--------+------+---------+------+---------+--------+-----------+--------------+-----------------+------------+--------------+--------------+---------------+\n",
      "|State|            AreaName|All_Poverty|M_Poverty|F_Poverty|FIPS|Med_Income|Med_Income_White|Med_Income_Black|Med_Income_Nat_Am|Med_Income_Asian|Hispanic|M_With|M_Without|F_With|F_Without|All_With|All_Without|Incidence_Rate|Avg_Ann_Incidence|recent_trend|Mortality_Rate|Avg_Ann_Deaths|POPESTIMATE2015|\n",
      "+-----+--------------------+-----------+---------+---------+----+----------+----------------+----------------+-----------------+----------------+--------+------+---------+------+---------+--------+-----------+--------------+-----------------+------------+--------------+--------------+---------------+\n",
      "|   AK|Aleutians East Bo...|        553|      334|      219|2013|   61518.0|         72639.0|         31250.0|          54750.0|         62679.0| 51250.0|   876|     1317|   566|      540|    1442|       1857|             *|       3 or fewer|           *|             *|             *|           3341|\n",
      "|   AK|Aleutians West Ce...|        499|      273|      226|2016|   84306.0|         97321.0|         93750.0|          48750.0|         81250.0| 77500.0|  2470|      769|  1707|      564|    4177|       1333|             *|       3 or fewer|           *|             *|             *|           5702|\n",
      "|   AK|Anchorage Municip...|      23914|    10698|    13216|2020|   78326.0|         87235.0|         50535.0|          53935.0|         63757.0| 53926.0|120747|    23245|122426|    21393|  243173|      44638|          61.5|              131|      stable|          47.3|            96|         298695|\n",
      "|   AK|Bethel Census Are...|       4364|     2199|     2165|2050|   51012.0|         92647.0|         73661.0|          41594.0|        110625.0|160114.0|  6396|     2708|  6627|     1774|   13023|       4482|          62.7|                6|      stable|          58.3|             5|          17946|\n",
      "|   AK|Bristol Bay Borou...|         69|       33|       36|2060|   79750.0|         88000.0|            null|          63333.0|            null| 25625.0|   419|      124|   349|       67|     768|        191|             *|       3 or fewer|           *|             *|             *|            892|\n",
      "|   AK|Denali Borough, A...|        254|      139|      115|2068|   81544.0|         81029.0|            null|          47500.0|            null|    null|   822|      253|   674|      250|    1496|        503|             *|       3 or fewer|           *|             *|             *|           1919|\n",
      "|   AK|Dillingham Census...|        894|      446|      448|2070|   54173.0|         81161.0|            null|          42212.0|            null| 86458.0|  1678|      900|  1837|      546|    3515|       1446|             *|       3 or fewer|           *|             *|             *|           4997|\n",
      "|   AK|Fairbanks North S...|       7752|     3523|     4229|2090|   71068.0|         74242.0|         56353.0|          48333.0|         56339.0| 55284.0| 40605|     6957| 40210|     5322|   80815|      12279|          58.1|               36|      stable|            54|            31|          99631|\n",
      "|   AK|Haines Borough, A...|        135|       74|       61|2100|   58750.0|         67888.0|            null|          45714.0|            null|    null|   960|      422|   944|      228|    1904|        650|             *|       3 or fewer|           *|             *|             *|           2534|\n",
      "|   AK|Juneau City and B...|       2110|     1145|      965|2110|   85746.0|         90553.0|        106964.0|          57821.0|         80893.0| 76083.0| 13739|     2433| 13582|     2213|   27321|       4646|          35.1|                9|      stable|          34.4|             8|          32756|\n",
      "+-----+--------------------+-----------+---------+---------+----+----------+----------------+----------------+-----------------+----------------+--------+------+---------+------+---------+--------+-----------+--------------+-----------------+------------+--------------+--------------+---------------+\n",
      "\n"
     ]
    }
   ],
   "source": [
    "# Sol:\n",
    "print((fulldf.count(), len(fulldf.columns)))\n",
    "fulldf.schema\n",
    "fulldf.limit(10).show()"
   ]
  },
  {
   "cell_type": "markdown",
   "metadata": {},
   "source": [
    "### Análisis de nulos\n",
    "\n",
    "Estudiar el número de nulos de cada una de las columnas"
   ]
  },
  {
   "cell_type": "code",
   "execution_count": 22,
   "metadata": {},
   "outputs": [
    {
     "name": "stdout",
     "output_type": "stream",
     "text": [
      "Valores nulos de la columna State:0\n",
      "Valores nulos de la columna AreaName:0\n",
      "Valores nulos de la columna All_Poverty:0\n",
      "Valores nulos de la columna M_Poverty:0\n",
      "Valores nulos de la columna F_Poverty:0\n",
      "Valores nulos de la columna FIPS:0\n",
      "Valores nulos de la columna Med_Income:1\n",
      "Valores nulos de la columna Med_Income_White:2\n",
      "Valores nulos de la columna Med_Income_Black:1210\n",
      "Valores nulos de la columna Med_Income_Nat_Am:1660\n",
      "Valores nulos de la columna Med_Income_Asian:1757\n",
      "Valores nulos de la columna Hispanic:681\n",
      "Valores nulos de la columna M_With:0\n",
      "Valores nulos de la columna M_Without:0\n",
      "Valores nulos de la columna F_With:0\n",
      "Valores nulos de la columna F_Without:0\n",
      "Valores nulos de la columna All_With:0\n",
      "Valores nulos de la columna All_Without:0\n",
      "Valores nulos de la columna Incidence_Rate:0\n",
      "Valores nulos de la columna Avg_Ann_Incidence:0\n",
      "Valores nulos de la columna recent_trend:0\n",
      "Valores nulos de la columna Mortality_Rate:0\n",
      "Valores nulos de la columna Avg_Ann_Deaths:0\n",
      "Valores nulos de la columna POPESTIMATE2015:0\n"
     ]
    }
   ],
   "source": [
    "# check for null values\n",
    "# Sol:\n",
    "import pyspark.sql.functions as F\n",
    "for col in fulldf.columns:\n",
    "    print(f\"Valores nulos de la columna {col}:{fulldf.where(F.col(col).isNull()).count()}\")"
   ]
  },
  {
   "cell_type": "markdown",
   "metadata": {
    "lang": "es"
   },
   "source": [
    "### Borrado de columnas con muchos nulos\n",
    "\n",
    "Los datos sobre el ingreso medio por origen étnico están incompletos. Eliminar las columnas con valores nulos excepto la columna `Med_Income`."
   ]
  },
  {
   "cell_type": "code",
   "execution_count": 23,
   "metadata": {},
   "outputs": [],
   "source": [
    "# Sol:\n",
    "for col in fulldf.columns:\n",
    "    if col != \"Med_Income\":\n",
    "        if fulldf.where(F.col(col).isNull()).count()>0:\n",
    "            fulldf = fulldf.drop(F.col(col))"
   ]
  },
  {
   "cell_type": "code",
   "execution_count": 24,
   "metadata": {},
   "outputs": [
    {
     "name": "stdout",
     "output_type": "stream",
     "text": [
      "(3134, 19)\n"
     ]
    }
   ],
   "source": [
    "print((fulldf.count(), len(fulldf.columns)))"
   ]
  },
  {
   "cell_type": "markdown",
   "metadata": {},
   "source": [
    "### Tipos de datos"
   ]
  },
  {
   "cell_type": "markdown",
   "metadata": {
    "lang": "es"
   },
   "source": [
    "A continuación, debemos revisar que los datos son numéricos (en lugar de cadenas u otros tipos). Para las columnas `Mortality_Rate`y `Incidence_Rate` hay que tener cuidado (traen asteriscos en algunos casos).\n",
    "\n",
    "__Calcula el número de * en las columnas `Mortality_Rate`y `Incidence_Rate`__"
   ]
  },
  {
   "cell_type": "code",
   "execution_count": 27,
   "metadata": {},
   "outputs": [
    {
     "data": {
      "text/plain": [
       "325"
      ]
     },
     "execution_count": 27,
     "metadata": {},
     "output_type": "execute_result"
    }
   ],
   "source": [
    "# Calcula el número de * en la columna Moratality_rate\n",
    "# Sol:\n",
    "fulldf.where(F.col(\"Mortality_Rate\").contains(\"*\")).count()"
   ]
  },
  {
   "cell_type": "markdown",
   "metadata": {},
   "source": [
    "Podemos ver que 325 de las muestras de `Mortality_Rate` contienen un asterisco. Podemos ver en la documentación que el asterisco representa una supresión de los datos en los casos en que se informaron menos de 16 casos anuales."
   ]
  },
  {
   "cell_type": "code",
   "execution_count": 28,
   "metadata": {},
   "outputs": [
    {
     "data": {
      "text/plain": [
       "211"
      ]
     },
     "execution_count": 28,
     "metadata": {},
     "output_type": "execute_result"
    }
   ],
   "source": [
    "# Calcula el número de * en la columna Incidence_Rate\n",
    "# Sol:\n",
    "fulldf.where(F.col(\"Incidence_Rate\").contains(\"*\")).count()"
   ]
  },
  {
   "cell_type": "markdown",
   "metadata": {
    "lang": "es"
   },
   "source": [
    "Tenemos que tomar una decisión sobre qué hacer con los 325 estados que informaron menos de 16 muertes y a los que les faltan valores de tasa de mortalidad (*).\n",
    "\n",
    "__Caso 1__ ¿El hecho de que se hayan reportado menos de 16 casos se debe a una mala notificación? En ese caso es posible que deseemos eliminar esas observaciones. O tal vez queramos intentar imputar los valores.\n",
    "\n",
    "__Caso 2__ Suponemos que los datos son correctos. En ese caso, es posible que deseemos cambiar \"\\*\" a cero, o a un número menor que 16.\n",
    "\n",
    "__Caso 3__ Si las observaciones son realmente válidas y las eliminamos, entonces agregamos sesgo al modelo.\n",
    "\n",
    "__Caso 4__ Si las observaciones son ruido, entonces debemos eliminarlas o imputarlas.\n",
    "\n",
    "Exploremos los datos para fundamentar nuestra decisión."
   ]
  },
  {
   "cell_type": "markdown",
   "metadata": {},
   "source": [
    "__Estudio de estados__\n",
    "\n",
    "* Determina qué estados tienen asteriscos en la columna `Incidence_Rate`. ¿Cuántos valores * hay en cada estado?\n",
    "\n",
    "* Determina qué estados tienen asteriscos en la columna `Incidence_Rate`. ¿Cuántos valores * hay en cada estado?"
   ]
  },
  {
   "cell_type": "code",
   "execution_count": 30,
   "metadata": {},
   "outputs": [
    {
     "name": "stdout",
     "output_type": "stream",
     "text": [
      "+-----+-----+\n",
      "|State|count|\n",
      "+-----+-----+\n",
      "|   OR|    3|\n",
      "|   VA|    2|\n",
      "|   WY|    2|\n",
      "|   MI|    1|\n",
      "|   ID|   10|\n",
      "|   CA|    2|\n",
      "|   NE|   31|\n",
      "|   MT|   15|\n",
      "|   MO|    1|\n",
      "|   ND|   22|\n",
      "|   WA|    1|\n",
      "|   MS|    1|\n",
      "|   NM|    6|\n",
      "|   SD|   24|\n",
      "|   TX|   47|\n",
      "|   GA|    4|\n",
      "|   CO|   16|\n",
      "|   AK|    8|\n",
      "|   OK|    4|\n",
      "|   UT|   10|\n",
      "+-----+-----+\n",
      "only showing top 20 rows\n",
      "\n"
     ]
    }
   ],
   "source": [
    "# SOL: \n",
    "fulldf.where(F.col(\"Incidence_Rate\").contains(\"*\")).groupBy(\"State\").count().show()"
   ]
  },
  {
   "cell_type": "markdown",
   "metadata": {},
   "source": [
    "__Dibuja el histograma de las columnas anteriores sin valores con *.__\n",
    "Antes de dibujar el histograma, los valores han de ser numéricos"
   ]
  },
  {
   "cell_type": "code",
   "execution_count": 48,
   "metadata": {},
   "outputs": [
    {
     "data": {
      "image/png": "[encoded data removed]",
      "text/plain": [
       "<Figure size 640x480 with 1 Axes>"
      ]
     },
     "metadata": {},
     "output_type": "display_data"
    },
    {
     "data": {
      "image/png": "[encoded data removed]",
      "text/plain": [
       "<Figure size 640x480 with 1 Axes>"
      ]
     },
     "metadata": {},
     "output_type": "display_data"
    }
   ],
   "source": [
    "# SOL: \n",
    "from pyspark_dist_explore import hist\n",
    "import matplotlib.pyplot as plt\n",
    "\n",
    "for col in [\"Mortality_Rate\", \"Incidence_Rate\"]:\n",
    "    df_hist = fulldf.select(\n",
    "        F.col(col).cast(\"double\")\n",
    "        ,F.col(\"State\")\n",
    "    ).where(\n",
    "        ~(F.col(col).contains(\"*\"))\n",
    "    ).groupBy('State').count()\n",
    "\n",
    "\n",
    "    fig, ax = plt.subplots()\n",
    "    hist(ax, df_hist.select(\"count\"), bins = 20, color=['red'])"
   ]
  },
  {
   "cell_type": "markdown",
   "metadata": {
    "lang": "es"
   },
   "source": [
    "Si todos los estados con asteriscos tienen poca población, entonces deberíamos tratarlos como válidos y reemplazarlos con un valor bajo (por ejemplo, 8). En caso contrario, entonces deberíamos eliminar esas observaciones.\n",
    "\n",
    "La información de la cantidad de población se recoge en el campo: `POPESTIMATE2015`."
   ]
  },
  {
   "cell_type": "markdown",
   "metadata": {
    "lang": "es"
   },
   "source": [
    "__Estudiar si los estados con asteriscos en  `Mortality_Rate` tienen una población baja__.\n",
    "Calcula la media de población de:\n",
    "* estados con *\n",
    "* estados sin *\n",
    "* todos los estados"
   ]
  },
  {
   "cell_type": "code",
   "execution_count": 210,
   "metadata": {},
   "outputs": [
    {
     "name": "stdout",
     "output_type": "stream",
     "text": [
      "113930.30829476682 3917.7784615384617 102521.86151882578\n"
     ]
    }
   ],
   "source": [
    "# SOL:\n",
    "\n",
    "# estados sin asteriscos\n",
    " \n",
    "# estados con asteriscos\n",
    " \n",
    "# media de todos\n",
    " "
   ]
  },
  {
   "cell_type": "markdown",
   "metadata": {
    "lang": "es"
   },
   "source": [
    "En los resultados deberías obtener que los estados que reportan asteriscos  tienen menos población que los que no los tienen. Tal vez por eso tienen menos de 16 casos (por cada 100.000).\n",
    "\n",
    "Pero... Vamos a ver la media de la tasa de mortaliadd de los estados por cantidad de población.\n",
    "\n",
    "<!--Pero todavía no estoy convencido de que debamos confiar en que en realidad no tuvieron mortalidad por cáncer de pulmón. Sospecho que es menos probable que los condados con baja población mantengan y reporten buenos datos. Examinemos más a fondo.\n",
    "-->\n",
    "Calcula la tasa de mortalidad de los estados con población en los siguientes rangos:\n",
    "[0, 1000], [1000, 5000], [5000, 10000],[10000,15000], [15000, 20000], [20000, 50000], [50000, 100000], [100000,500000], y mayor de 500000."
   ]
  },
  {
   "cell_type": "code",
   "execution_count": 251,
   "metadata": {},
   "outputs": [],
   "source": [
    "# SOL\n"
   ]
  },
  {
   "cell_type": "code",
   "execution_count": 238,
   "metadata": {},
   "outputs": [
    {
     "name": "stdout",
     "output_type": "stream",
     "text": [
      "Poblacion: 5000000, 52.599998474121094, 53.19942997578076\n"
     ]
    }
   ],
   "source": [
    "# Ejemplo de ayuda\n",
    "\n",
    "Mortality_Rate.createOrReplaceTempView(\"df1\")\n",
    "# de esta forma se puede referir a la tabla df\n",
    "d = 5000000\n",
    "c = spark.sql(\"\"\"\n",
    "    SELECT percentile_approx(Mortality_Rate, 0.5), mean(Mortality_Rate) FROM df1       \n",
    "    where POPESTIMATE2015 < {}\n",
    "    \"\"\".format(d))\n",
    "mediana, media = c.collect()[0][0], c.collect()[0][1]\n",
    "print (f'Población: {d}, {mediana}, {media}')"
   ]
  },
  {
   "cell_type": "markdown",
   "metadata": {
    "lang": "es"
   },
   "source": [
    "La tasa de mortalidad por cáncer de pulmón parece ser mayor en los estados con menor población. Los registros con asteriscos suelen corresponder a estados de muy baja población. Sin embargo, esperaríamos que tuvieran tasas de mortalidad más bajas, no más altas, en comparación con los estados con mayor población."
   ]
  },
  {
   "cell_type": "markdown",
   "metadata": {},
   "source": [
    "Dado que los estados con menos población tienden (cuando informan) a tener tasas de mortalidad más altas, no parece correcto afirmar que los asteriscos representan condados que informaron \"menos de 16\" casos de mortalidad. \n",
    "\n",
    "Lo más probable es que los asteriscos representen estados que no recopilaron ni informaron datos sobre mortalidad. \n",
    "\n",
    "\n",
    "__Para nuestro modelo posterior, vamos a eliminar los registros con estados que informan con *.__"
   ]
  },
  {
   "cell_type": "code",
   "execution_count": 239,
   "metadata": {},
   "outputs": [],
   "source": [
    "# SOL:\n",
    "\n"
   ]
  },
  {
   "cell_type": "markdown",
   "metadata": {},
   "source": [
    "__Asegúrate de que las columna `Mortality_Rate` y `Incidence_Rate` son numéricas (ahora ya no hay * ).__"
   ]
  },
  {
   "cell_type": "code",
   "execution_count": 252,
   "metadata": {},
   "outputs": [],
   "source": [
    "# SOL:\n"
   ]
  },
  {
   "cell_type": "markdown",
   "metadata": {},
   "source": [
    "#### Transformación de características"
   ]
  },
  {
   "cell_type": "markdown",
   "metadata": {},
   "source": [
    "Deberíamos convertir nuestros datos numéricos a per cápita. Nuestra variable objetivo, la tasa de mortalidad, se mide por 100.000 habitantes. Al normalizar cada variable en 100.000 habitantes, podemos evaluar más fácilmente cómo se correlacionan entre sí"
   ]
  },
  {
   "cell_type": "code",
   "execution_count": 245,
   "metadata": {},
   "outputs": [],
   "source": [
    "# Sol:\n"
   ]
  },
  {
   "cell_type": "markdown",
   "metadata": {},
   "source": [
    "\n",
    "\n",
    "#### La variable  `recent_trend`\n",
    " La variable  `recent_trend` es categórica.  Utiliza un  StringIndexer para convertir los valores a  número.\n",
    " \n",
    " \n",
    " \n",
    "            \n"
   ]
  },
  {
   "cell_type": "code",
   "execution_count": 246,
   "metadata": {},
   "outputs": [],
   "source": [
    "# Sol:\n"
   ]
  },
  {
   "cell_type": "markdown",
   "metadata": {},
   "source": [
    "#### Resto de variables\n",
    "\n",
    " Las variables que vamos a usar para crear el modelo son :\n",
    "  ```\n",
    "'All_Poverty', 'M_Poverty', 'F_Poverty', 'Med_Income', 'M_With', 'M_Without', 'F_With', 'F_Without', 'All_With','All_Without', 'Incidence_Rate','POPESTIMATE2015'.\n",
    "```\n",
    "\n",
    "\n",
    "También las obtenidas al transformar `recent_trend`.\n",
    "\n",
    "Calcula la correlación entre variables. Elimina una de cada dos variables si la correlación entre ellas es mayor de 0.7.\n",
    "            \n"
   ]
  },
  {
   "cell_type": "code",
   "execution_count": 40,
   "metadata": {},
   "outputs": [
    {
     "data": {
      "image/png": "[encoded data removed]",
      "text/plain": [
       "<Figure size 640x480 with 2 Axes>"
      ]
     },
     "metadata": {},
     "output_type": "display_data"
    }
   ],
   "source": [
    "# SOL\n",
    "\n",
    "# Para pintar la matriz de collelación:\n",
    "sns.set(font_scale=1)\n",
    "hm = sns.heatmap(matriz_correlacion, cbar=True, annot=True, \n",
    "                 square=True, fmt='.2f', annot_kws={'size':8},\n",
    "                 yticklabels=cols, xticklabels=cols)\n",
    "plt.show()"
   ]
  },
  {
   "cell_type": "markdown",
   "metadata": {},
   "source": [
    "# Creación de modelos y comparación"
   ]
  },
  {
   "cell_type": "markdown",
   "metadata": {
    "collapsed": true
   },
   "source": [
    "Crea varios modelos de regresión para estimar la variable  `Mortality_Rate`.\n",
    "Puedes usar:\n",
    "* LinearRegression\n",
    "* GeneralizedLinearRegression\n",
    "* DecisionTreeRegressor\n",
    "* IsotonicRegression"
   ]
  },
  {
   "cell_type": "markdown",
   "metadata": {},
   "source": [
    "Estudia la validez de los distintos modelos.\n",
    "Ayúdate de los pipelines y la validación cruzada."
   ]
  },
  {
   "cell_type": "markdown",
   "metadata": {},
   "source": [
    "------"
   ]
  }
 ],
 "metadata": {
  "hide_input": false,
  "kernelspec": {
   "display_name": "Python 3 (ipykernel)",
   "language": "python",
   "name": "python3"
  },
  "language_info": {
   "codemirror_mode": {
    "name": "ipython",
    "version": 3
   },
   "file_extension": ".py",
   "mimetype": "text/x-python",
   "name": "python",
   "nbconvert_exporter": "python",
   "pygments_lexer": "ipython3",
   "version": "3.10.12"
  },
  "nbTranslate": {
   "displayLangs": [
    "es",
    "en"
   ],
   "hotkey": "alt-t",
   "langInMainMenu": true,
   "sourceLang": "en",
   "targetLang": "es",
   "useGoogleTranslate": true
  },
  "toc": {
   "base_numbering": 1,
   "nav_menu": {
    "height": "435px",
    "width": "252px"
   },
   "number_sections": false,
   "sideBar": true,
   "skip_h1_title": false,
   "title_cell": "Table of Contents",
   "title_sidebar": "Contents",
   "toc_cell": true,
   "toc_position": {
    "height": "calc(100% - 180px)",
    "left": "10px",
    "top": "150px",
    "width": "330.2px"
   },
   "toc_section_display": "block",
   "toc_window_display": true
  },
  "varInspector": {
   "cols": {
    "lenName": 16,
    "lenType": 16,
    "lenVar": 40
   },
   "kernels_config": {
    "python": {
     "delete_cmd_postfix": "",
     "delete_cmd_prefix": "del ",
     "library": "var_list.py",
     "varRefreshCmd": "print(var_dic_list())"
    },
    "r": {
     "delete_cmd_postfix": ") ",
     "delete_cmd_prefix": "rm(",
     "library": "var_list.r",
     "varRefreshCmd": "cat(var_dic_list()) "
    }
   },
   "position": {
    "height": "688px",
    "left": "654.815px",
    "right": "20px",
    "top": "113.991px",
    "width": "543px"
   },
   "types_to_exclude": [
    "module",
    "function",
    "builtin_function_or_method",
    "instance",
    "_Feature"
   ],
   "window_display": false
  }
 },
 "nbformat": 4,
 "nbformat_minor": 2
}
