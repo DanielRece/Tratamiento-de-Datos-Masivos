{
 "cells": [
  {
   "cell_type": "markdown",
   "metadata": {},
   "source": [
    "# Práctica 5 : Regresión logística\n",
    "\n",
    "\n",
    "Un clásico en los cursos de Machine learning es utilizar los datos del Titanic para realizar un modelo que prediga (a posteriori, claro) las posibilidades de sobrevivir al naufragio a partir de datos como la edad, el sexo, lo que se ha pagado por el pasaje, etc. \n",
    "\n",
    "Aquí utilizaremos regresión logística para intentar predecir este valor.\n",
    "\n"
   ]
  },
  {
   "cell_type": "code",
   "execution_count": 1,
   "metadata": {},
   "outputs": [],
   "source": [
    "# Curso: TDM - 2023/2024\n",
    "# Nombre: Daniel Mihai\n",
    "# Apellidos: Rece\n",
    "# Fecha: 14-11-2023"
   ]
  },
  {
   "cell_type": "markdown",
   "metadata": {},
   "source": [
    "## Preparando el entorno\n",
    "\n",
    "Empezamos asegurándonos de que Spark está disponible y funciona y cargando funciones auxiliares"
   ]
  },
  {
   "cell_type": "code",
   "execution_count": 2,
   "metadata": {},
   "outputs": [
    {
     "name": "stdout",
     "output_type": "stream",
     "text": [
      "23/11/14 19:07:47 WARN Utils: Your hostname, danrec-HP-Pavilion-Gaming-Laptop-15-ec0xxx resolves to a loopback address: 127.0.1.1; using 10.8.93.156 instead (on interface wlo1)\n",
      "23/11/14 19:07:47 WARN Utils: Set SPARK_LOCAL_IP if you need to bind to another address\n"
     ]
    },
    {
     "name": "stderr",
     "output_type": "stream",
     "text": [
      "Setting default log level to \"WARN\".\n",
      "To adjust logging level use sc.setLogLevel(newLevel). For SparkR, use setLogLevel(newLevel).\n"
     ]
    },
    {
     "name": "stdout",
     "output_type": "stream",
     "text": [
      "23/11/14 19:07:48 WARN NativeCodeLoader: Unable to load native-hadoop library for your platform... using builtin-java classes where applicable\n",
      "+-----+\n",
      "| hola|\n",
      "+-----+\n",
      "|spark|\n",
      "+-----+\n",
      "\n"
     ]
    }
   ],
   "source": [
    "import findspark\n",
    "findspark.init()\n",
    "\n",
    "import urllib\n",
    "import pyspark                         # only run after findspark.init()\n",
    "from pyspark.sql import SparkSession\n",
    "spark = SparkSession.builder.getOrCreate()\n",
    "sc = spark.sparkContext                        # para trabajar con RDD's\n",
    "\n",
    "df = spark.sql('''select 'spark' as hola ''')\n",
    "df.show()"
   ]
  },
  {
   "cell_type": "markdown",
   "metadata": {},
   "source": [
    "## Funciones útiles \n",
    "\n",
    "A continuación se proporcionan algunas de las funciones que han apareceido en notebooks anteriores y que nos pueden ser útiles ahora."
   ]
  },
  {
   "cell_type": "code",
   "execution_count": 5,
   "metadata": {},
   "outputs": [],
   "source": [
    "########\n",
    "# Dibujamos mediante histograma la distribución de una varaible numérica del dataframe\n",
    "########\n",
    "from pyspark_dist_explore import hist\n",
    "import matplotlib.pyplot as plt\n",
    "%matplotlib inline\n",
    "import pyspark.sql.functions as func \n",
    "\n",
    "def histogram(df,col,bins=20,color=\"red\"):\n",
    "    \"\"\"\n",
    "    df: dataframe\n",
    "    col: name of dataframe column\n",
    "    \"\"\"\n",
    "    fig,ax = plt.subplots()\n",
    "    hist(ax, df.select([col]), bins = bins,  color=[color])\n",
    "    plt.xlabel(col)\n",
    "    vs = df.select(func.mean(col),func.stddev(col)).collect()\n",
    "    mean = vs[0][0]\n",
    "    sd = vs[0][1]\n",
    "    median = df.agg(func.percentile_approx(col, 0.5).alias(\"median\")).collect()[0][0]\n",
    "    #print(mean,sd,median,mode)\n",
    "    plt.plot([mean-1.97*sd,mean+1.97*sd],[10,10],color=\"blue\")\n",
    "    plt.plot([mean,mean],[0,-20],color=\"blue\")\n",
    "    plt.plot([median,median],[25,-15],color=\"green\")\n",
    "    plt.title(\"Histogram of \"+str(col)+\". Median: \"+str(round(median,2))+\". Mean: \"+str(round(mean,2))+\". SD: \"+str(round(sd,2)))\n",
    "    plt.show()\n",
    "\n",
    "\n",
    "########\n",
    "# Creación del dataframe a partir de un ficheroE\n",
    "########\n",
    "def create_spark_dataframe(file):\n",
    "    df = spark.read.format(\"com.databricks.spark.csv\").options(header='true', inferschema='true').load(file)\n",
    "    return df\n",
    "\n"
   ]
  },
  {
   "cell_type": "markdown",
   "metadata": {},
   "source": [
    "## Carga de datos"
   ]
  },
  {
   "cell_type": "code",
   "execution_count": 6,
   "metadata": {},
   "outputs": [],
   "source": [
    "# primero lo descargamos en local\n",
    "\n",
    "url = \"https://raw.githubusercontent.com/ygarciar/Datasets/main/titanicyesno.csv\"\n",
    "file = \"./titanicyesno.csv\"\n",
    "urllib.request.urlretrieve(url,file)\n",
    "\n",
    "# ahora llamamos a la función\n",
    "df = create_spark_dataframe(file)"
   ]
  },
  {
   "cell_type": "markdown",
   "metadata": {},
   "source": [
    "## Ejercicios\n",
    "\n",
    "A continuación se describe cada una de las columnas del dataframe:\n",
    "\n",
    "* `survived` - Survival ('yes' or 'no')\n",
    "* `pclass` - Passenger Class (1 = 1st; 2 = 2nd; 3 = 3rd)\n",
    "* `name` - Name\n",
    "* `sex` - Sex\n",
    "* `age` - Age\n",
    "* `sibsp` - Number of Siblings/Spouses Aboard\n",
    "* `parch` - Number of Parents/Children Aboard\n",
    "* `ticket` - Ticket Number\n",
    "* `fare` - Passenger Fare\n",
    "* `embarked` - Port of Embarkation (C = Cherbourg; Q = Queenstown; S = Southampton)\n",
    "\n",
    "\n",
    "Se pide: predecir el valor de la columna `survided` a partir de las columnas: \n",
    "`pclass`, `sex`, `age`, `sibsp`, `parch`, `fare`."
   ]
  },
  {
   "cell_type": "markdown",
   "metadata": {},
   "source": [
    "### Pregunta 1\n",
    "\n",
    "Escribe las instrucciones necesarias para visualizar el esquema del dataframe, el número de filas cargadas y los primeros estadísticos"
   ]
  },
  {
   "cell_type": "code",
   "execution_count": 17,
   "metadata": {},
   "outputs": [
    {
     "name": "stdout",
     "output_type": "stream",
     "text": [
      "root\n",
      " |-- survived: string (nullable = true)\n",
      " |-- pclass: integer (nullable = true)\n",
      " |-- name: string (nullable = true)\n",
      " |-- sex: string (nullable = true)\n",
      " |-- age: double (nullable = true)\n",
      " |-- sibsp: integer (nullable = true)\n",
      " |-- parch: integer (nullable = true)\n",
      " |-- ticket: string (nullable = true)\n",
      " |-- fare: double (nullable = true)\n",
      " |-- embarked: string (nullable = true)\n",
      "\n",
      "Nº de filas cargadas = 891 \n",
      "\n",
      "+-------+--------+------------------+--------------------+------+------------------+------------------+-------------------+------------------+-----------------+--------+\n",
      "|summary|survived|            pclass|                name|   sex|               age|             sibsp|              parch|            ticket|             fare|embarked|\n",
      "+-------+--------+------------------+--------------------+------+------------------+------------------+-------------------+------------------+-----------------+--------+\n",
      "|  count|     891|               891|                 891|   891|               714|               891|                891|               891|              891|     889|\n",
      "|   mean|    null| 2.308641975308642|                null|  null| 29.69911764705882|0.5230078563411896|0.38159371492704824|260318.54916792738| 32.2042079685746|    null|\n",
      "| stddev|    null|0.8360712409770491|                null|  null|14.526497332334035|1.1027434322934315| 0.8060572211299488|471609.26868834975|49.69342859718089|    null|\n",
      "|    min|      no|                 1|\"Andersson, Mr. A...|female|              0.42|                 0|                  0|            110152|              0.0|       C|\n",
      "|    max|     yes|                 3|van Melkebeke, Mr...|  male|              80.0|                 8|                  6|         WE/P 5735|         512.3292|       S|\n",
      "+-------+--------+------------------+--------------------+------+------------------+------------------+-------------------+------------------+-----------------+--------+\n",
      "\n"
     ]
    }
   ],
   "source": [
    "# Sol:\n",
    "df.printSchema()\n",
    "print(f\"Nº de filas cargadas = {df.count()} \\n\")\n",
    "df.describe().show()\n"
   ]
  },
  {
   "cell_type": "markdown",
   "metadata": {},
   "source": [
    "\n",
    "\n",
    "### Pregunta 2\n",
    "\n",
    "Visualiza las primeras 5 filas de la tabla:"
   ]
  },
  {
   "cell_type": "code",
   "execution_count": 18,
   "metadata": {},
   "outputs": [
    {
     "data": {
      "text/plain": [
       "[Row(survived='no', pclass=3, name='Braund, Mr. Owen Harris', sex='male', age=22.0, sibsp=1, parch=0, ticket='A/5 21171', fare=7.25, embarked='S'),\n",
       " Row(survived='yes', pclass=1, name='Cumings, Mrs. John Bradley (Florence Briggs Thayer)', sex='female', age=38.0, sibsp=1, parch=0, ticket='PC 17599', fare=71.2833, embarked='C'),\n",
       " Row(survived='yes', pclass=3, name='Heikkinen, Miss. Laina', sex='female', age=26.0, sibsp=0, parch=0, ticket='STON/O2. 3101282', fare=7.925, embarked='S'),\n",
       " Row(survived='yes', pclass=1, name='Futrelle, Mrs. Jacques Heath (Lily May Peel)', sex='female', age=35.0, sibsp=1, parch=0, ticket='113803', fare=53.1, embarked='S'),\n",
       " Row(survived='no', pclass=3, name='Allen, Mr. William Henry', sex='male', age=35.0, sibsp=0, parch=0, ticket='373450', fare=8.05, embarked='S')]"
      ]
     },
     "execution_count": 18,
     "metadata": {},
     "output_type": "execute_result"
    }
   ],
   "source": [
    "# Sol:\n",
    "df.head(5)"
   ]
  },
  {
   "cell_type": "markdown",
   "metadata": {},
   "source": [
    " Las columnas `survived` y `sex` son de tipo string. Para crear un modelo de regresión logística necesitamos que ambas sean de tipo numérico. Para convertirlos a número utilizaremos el método [StringIndexer](https://spark.apache.org/docs/latest/ml-features#stringindexer). Un ejemplo que puede ayudar a entender cómo funciona:"
   ]
  },
  {
   "cell_type": "code",
   "execution_count": 19,
   "metadata": {},
   "outputs": [
    {
     "name": "stderr",
     "output_type": "stream",
     "text": [
      "                                                                                \r"
     ]
    },
    {
     "name": "stdout",
     "output_type": "stream",
     "text": [
      "+---+--------+\n",
      "| id|category|\n",
      "+---+--------+\n",
      "|  0|       a|\n",
      "|  1|       b|\n",
      "|  2|       c|\n",
      "|  3|       a|\n",
      "|  4|       a|\n",
      "|  5|       c|\n",
      "+---+--------+\n",
      "\n"
     ]
    }
   ],
   "source": [
    "# Ejemplo:\n",
    "from pyspark.ml.feature import StringIndexer\n",
    "dfPega = spark.createDataFrame(\n",
    "    [(0, \"a\"), (1, \"b\"), (2, \"c\"), (3, \"a\"), (4, \"a\"), (5, \"c\")],\n",
    "    [\"id\", \"category\"])\n",
    "dfPega.show()\n"
   ]
  },
  {
   "cell_type": "code",
   "execution_count": 23,
   "metadata": {},
   "outputs": [
    {
     "name": "stdout",
     "output_type": "stream",
     "text": [
      "+---+--------+-------------+\n",
      "| id|category|categoryIndex|\n",
      "+---+--------+-------------+\n",
      "|  0|       a|          0.0|\n",
      "|  1|       b|          2.0|\n",
      "|  2|       c|          1.0|\n",
      "|  3|       a|          0.0|\n",
      "|  4|       a|          0.0|\n",
      "|  5|       c|          1.0|\n",
      "+---+--------+-------------+\n",
      "\n"
     ]
    }
   ],
   "source": [
    "indexer = StringIndexer(inputCol=\"category\", outputCol=\"categoryIndex\") # método\n",
    "indexed_model = indexer.fit(dfPega) # metodo.fit --> modelo\n",
    "df_indexed = indexed_model.transform(dfPega)  # modelo.transform --> resultado\n",
    "df_indexed.show()"
   ]
  },
  {
   "cell_type": "markdown",
   "metadata": {},
   "source": [
    "__a)__ Utiliza `StringIndexer` con columna de entrada `survived` y como columna de salida `label_survived`. El modelo (obtenido tras hacer fit) se llamará `indexer_model`. \n",
    "\n",
    "__b)__ Utiliza `StringIndexer` con columna de entrada `sex`  y como columna de salida `sex_i`. El dataframe que se obtiene tras aplicar los dos indexers se llamará `dfi`.\n",
    "\n",
    "__c)__ Mostrar las primeras 5 filas del dataframe `dfi`.\n",
    "\n",
    "__Notas__:\n",
    "\n",
    "* Ponerle un nombre diferente tanto a cada método indexer como al \"modelo\" que generan, no reutilizar variables. \n"
   ]
  },
  {
   "cell_type": "code",
   "execution_count": 35,
   "metadata": {},
   "outputs": [
    {
     "name": "stdout",
     "output_type": "stream",
     "text": [
      "+--------+------+--------------------+------+----+-----+-----+----------------+-------+--------+--------------+-----+\n",
      "|survived|pclass|                name|   sex| age|sibsp|parch|          ticket|   fare|embarked|label_survived|sex_i|\n",
      "+--------+------+--------------------+------+----+-----+-----+----------------+-------+--------+--------------+-----+\n",
      "|      no|     3|Braund, Mr. Owen ...|  male|22.0|    1|    0|       A/5 21171|   7.25|       S|           0.0|  0.0|\n",
      "|     yes|     1|Cumings, Mrs. Joh...|female|38.0|    1|    0|        PC 17599|71.2833|       C|           1.0|  1.0|\n",
      "|     yes|     3|Heikkinen, Miss. ...|female|26.0|    0|    0|STON/O2. 3101282|  7.925|       S|           1.0|  1.0|\n",
      "|     yes|     1|Futrelle, Mrs. Ja...|female|35.0|    1|    0|          113803|   53.1|       S|           1.0|  1.0|\n",
      "|      no|     3|Allen, Mr. Willia...|  male|35.0|    0|    0|          373450|   8.05|       S|           0.0|  0.0|\n",
      "+--------+------+--------------------+------+----+-----+-----+----------------+-------+--------+--------------+-----+\n",
      "only showing top 5 rows\n",
      "\n"
     ]
    }
   ],
   "source": [
    "#Sol: \n",
    "from pyspark.ml.feature import StringIndexer\n",
    "indexer = StringIndexer(inputCol=\"survived\", outputCol=\"label_survived\") \n",
    "indexer_model = indexer.fit(df)\n",
    "df_indexed = indexer_model.transform(df)\n",
    "indexer_sex = StringIndexer(inputCol=\"sex\", outputCol= \"sex_i\")\n",
    "indexer_sex_model = indexer_sex.fit(df_indexed)\n",
    "dfi = indexer_sex_model.transform(df_indexed)\n",
    "dfi.show(5)"
   ]
  },
  {
   "cell_type": "markdown",
   "metadata": {},
   "source": [
    "Este código muestra la identificación entre etiquetas y valores en el caso de la columna `label_survived`, y el dataframe resultante.\n",
    "Cuidado: los valores asignados a las etiquetas pueden cambiar con respecto a este notebook, apuntarlos para más adelante."
   ]
  },
  {
   "cell_type": "code",
   "execution_count": 36,
   "metadata": {},
   "outputs": [
    {
     "name": "stdout",
     "output_type": "stream",
     "text": [
      "[('no', 0), ('yes', 1)]\n"
     ]
    }
   ],
   "source": [
    "print(list(zip(indexer_model.labels,[0,1])))"
   ]
  },
  {
   "cell_type": "code",
   "execution_count": 37,
   "metadata": {},
   "outputs": [
    {
     "name": "stdout",
     "output_type": "stream",
     "text": [
      "[('male', 0), ('female', 1)]\n"
     ]
    }
   ],
   "source": [
    "print(list(zip(indexer_sex_model.labels,[0,1])))"
   ]
  },
  {
   "cell_type": "markdown",
   "metadata": {},
   "source": [
    "### Pregunta 3\n",
    "\n",
    "Estudiar los valores nulos de las columnas que hay en el dataframe `dfi`:"
   ]
  },
  {
   "cell_type": "code",
   "execution_count": 47,
   "metadata": {},
   "outputs": [
    {
     "name": "stdout",
     "output_type": "stream",
     "text": [
      "+--------+------+----+---+---+-----+-----+------+----+--------+--------------+-----+\n",
      "|survived|pclass|name|sex|age|sibsp|parch|ticket|fare|embarked|label_survived|sex_i|\n",
      "+--------+------+----+---+---+-----+-----+------+----+--------+--------------+-----+\n",
      "|       0|     0|   0|  0|177|    0|    0|     0|   0|       2|             0|    0|\n",
      "+--------+------+----+---+---+-----+-----+------+----+--------+--------------+-----+\n",
      "\n"
     ]
    }
   ],
   "source": [
    "# Sol:\n",
    "import pyspark.sql.functions as F\n",
    "(dfi.agg(*[F.sum(F.col(c).isNull().cast(\"int\")).alias(c) for c in dfi.columns])).show()\n"
   ]
  },
  {
   "cell_type": "markdown",
   "metadata": {},
   "source": [
    "La columna `embarked` no la vamos a usar, pero `age` sí, y son muchos nulos. Decidimos rellenar estos valores con la media. Afortunadamente disponemos ya de un transformador que hace eso, llamado `Imputer` (ver [aquí](https://spark.apache.org/docs/latest/api/python/reference/api/pyspark.ml.feature.Imputer.html)). Por defecto ya rellena con la media como muestra este ejemplo:"
   ]
  },
  {
   "cell_type": "code",
   "execution_count": 48,
   "metadata": {},
   "outputs": [
    {
     "name": "stdout",
     "output_type": "stream",
     "text": [
      "+---+---+\n",
      "|  a|  b|\n",
      "+---+---+\n",
      "|1.0|NaN|\n",
      "|2.0|NaN|\n",
      "|NaN|3.0|\n",
      "|4.0|4.0|\n",
      "|5.0|5.0|\n",
      "+---+---+\n",
      "\n",
      "+---+---+-----+-----+\n",
      "|  a|  b|out_a|out_b|\n",
      "+---+---+-----+-----+\n",
      "|1.0|NaN|  1.0|  4.0|\n",
      "|2.0|NaN|  2.0|  4.0|\n",
      "|NaN|3.0|  3.0|  3.0|\n",
      "|4.0|4.0|  4.0|  4.0|\n",
      "|5.0|5.0|  5.0|  5.0|\n",
      "+---+---+-----+-----+\n",
      "\n"
     ]
    }
   ],
   "source": [
    "from pyspark.ml.feature import Imputer\n",
    "\n",
    "dfPega = spark.createDataFrame([\n",
    "    (1.0, float(\"nan\")),\n",
    "    (2.0, float(\"nan\")),\n",
    "    (float(\"nan\"), 3.0),\n",
    "    (4.0, 4.0),\n",
    "    (5.0, 5.0)\n",
    "], [\"a\", \"b\"])\n",
    "dfPega.show()\n",
    "\n",
    "imputer = Imputer(inputCols=[\"a\", \"b\"], outputCols=[\"out_a\", \"out_b\"]) # metodo\n",
    "imputmodel = imputer.fit(dfPega) # metodo.fit -> modelo\n",
    "\n",
    "imputmodel.transform(dfPega).show()  # modelo.transform --> resultado"
   ]
  },
  {
   "cell_type": "markdown",
   "metadata": {},
   "source": [
    "__a)__ Aplicar el método `Imputer` usando la columna `age` como entrada, generando una nueva columna `age_m`. La nueva columna no tiene nulos, ya que han sido sustituidos por la media de los valores existentes. \n",
    "\n",
    "Llamaremos a la columna de salida `age_m`, y al dataframe de salida `df_m`. Muestra 5 filas del nuevo dataframe."
   ]
  },
  {
   "cell_type": "code",
   "execution_count": 52,
   "metadata": {
    "scrolled": true
   },
   "outputs": [],
   "source": [
    "# Sol: \n",
    "from pyspark.ml.feature import Imputer\n",
    "\n",
    "imputer_age = Imputer(inputCol=\"age\", outputCol=\"age_m\")\n",
    "imputmodel_age = imputer_age.fit(dfi) \n",
    "df_m = imputmodel_age.transform(dfi)"
   ]
  },
  {
   "cell_type": "markdown",
   "metadata": {},
   "source": [
    "__b)__ Comprueba que el nuevo dataframe `df_m` no tiene nulos en la columna `age_m`."
   ]
  },
  {
   "cell_type": "code",
   "execution_count": 54,
   "metadata": {},
   "outputs": [
    {
     "data": {
      "text/plain": [
       "0"
      ]
     },
     "execution_count": 54,
     "metadata": {},
     "output_type": "execute_result"
    }
   ],
   "source": [
    "# Sol: \n",
    "df_m.where(F.col(\"age_m\").isNull()).count()"
   ]
  },
  {
   "cell_type": "markdown",
   "metadata": {},
   "source": [
    "### Pregunta 4\n",
    "\n",
    "Comenzamos con la preparación de los datos para la construcción del modelo. El objetivo es predecir el valor de la columna `survided` a partir de las columnas: `pclass`, `sex`, `age`, `sibsp`, `parch`, `fare`.\n",
    "\n",
    "Se pide: combinar en un `VectorAssembler` las columnas `pclass`, `age_m`, `sibsp`, `parch`, `fare`, `sex_i` dando como salida una nueva columna `features`. Este transformador tomará el dataframe `df_m` como entrada. El dataframe de salida se debe llamar `df_feat`.\n",
    "\n"
   ]
  },
  {
   "cell_type": "code",
   "execution_count": 58,
   "metadata": {},
   "outputs": [],
   "source": [
    "# Sol:\n",
    "from pyspark.ml.feature import VectorAssembler\n",
    "\n",
    "vec_ass = VectorAssembler(inputCols=[\"pclass\", \"age_m\", \"sibsp\", \"parch\", \"fare\", \"sex_i\"], outputCol= \"features\")\n",
    "df_feat = vec_ass.transform(df_m)"
   ]
  },
  {
   "cell_type": "markdown",
   "metadata": {},
   "source": [
    "La ejecución del siguiente código deja solo las columnas que queremos y muestra el resultado:"
   ]
  },
  {
   "cell_type": "code",
   "execution_count": 59,
   "metadata": {},
   "outputs": [
    {
     "name": "stdout",
     "output_type": "stream",
     "text": [
      "+--------+--------------------+--------------+\n",
      "|survived|            features|label_survived|\n",
      "+--------+--------------------+--------------+\n",
      "|      no|[3.0,22.0,1.0,0.0...|           0.0|\n",
      "|     yes|[1.0,38.0,1.0,0.0...|           1.0|\n",
      "|     yes|[3.0,26.0,0.0,0.0...|           1.0|\n",
      "|     yes|[1.0,35.0,1.0,0.0...|           1.0|\n",
      "|      no|[3.0,35.0,0.0,0.0...|           0.0|\n",
      "|      no|[3.0,29.699117647...|           0.0|\n",
      "|      no|[1.0,54.0,0.0,0.0...|           0.0|\n",
      "|      no|[3.0,2.0,3.0,1.0,...|           0.0|\n",
      "|     yes|[3.0,27.0,0.0,2.0...|           1.0|\n",
      "|     yes|[2.0,14.0,1.0,0.0...|           1.0|\n",
      "|     yes|[3.0,4.0,1.0,1.0,...|           1.0|\n",
      "|     yes|[1.0,58.0,0.0,0.0...|           1.0|\n",
      "|      no|[3.0,20.0,0.0,0.0...|           0.0|\n",
      "|      no|[3.0,39.0,1.0,5.0...|           0.0|\n",
      "|      no|[3.0,14.0,0.0,0.0...|           0.0|\n",
      "|     yes|[2.0,55.0,0.0,0.0...|           1.0|\n",
      "|      no|[3.0,2.0,4.0,1.0,...|           0.0|\n",
      "|     yes|[2.0,29.699117647...|           1.0|\n",
      "|      no|[3.0,31.0,1.0,0.0...|           0.0|\n",
      "|     yes|[3.0,29.699117647...|           1.0|\n",
      "+--------+--------------------+--------------+\n",
      "only showing top 20 rows\n",
      "\n"
     ]
    }
   ],
   "source": [
    "df_feat = df_feat.select(['survived', \"features\",\"label_survived\"])\n",
    "df_feat.show()"
   ]
  },
  {
   "cell_type": "markdown",
   "metadata": {},
   "source": [
    "### Pregunta 5\n",
    "\n",
    "Crear el modelo de regresión logística con un 70% de valores para entrenar y un 30% para test. El modelo se creará sin hiperparámetros.  Hacer que el modelo quede en una variable `lrModel` y las predicciones del test en una variable `predictions`."
   ]
  },
  {
   "cell_type": "code",
   "execution_count": 63,
   "metadata": {},
   "outputs": [],
   "source": [
    "# Sol: \n",
    "from pyspark.ml.classification import LogisticRegression\n",
    "# seed 1001 para poder replicar los datos\n",
    "train, test = df_feat.randomSplit(weights=[0.7,0.3],seed = 1001)\n",
    "lrModel = LogisticRegression(featuresCol=\"features\",labelCol=\"label_survived\")\n",
    "trained_lrModel = lrModel.fit(train)\n",
    "predictions = trained_lrModel.transform(test)"
   ]
  },
  {
   "cell_type": "markdown",
   "metadata": {},
   "source": [
    "Examinar los resultados de la evaluación"
   ]
  },
  {
   "cell_type": "code",
   "execution_count": 81,
   "metadata": {},
   "outputs": [
    {
     "name": "stdout",
     "output_type": "stream",
     "text": [
      "Error de tipo 1: 0.13186813186813187\n",
      "Error de tipo 2: 0.09157509157509157\n",
      "Acierto: 0.7765567765567766\n"
     ]
    }
   ],
   "source": [
    "# Sol:\n",
    "print(f\"Error de tipo 1: {(predictions.where((F.col('label_survived') == 0) & (F.col('prediction') != 0))).count()/predictions.count()}\")\n",
    "print(f\"Error de tipo 2: {(predictions.where((F.col('label_survived') != 0) & (F.col('prediction') == 0))).count()/predictions.count()}\")\n",
    "print(f\"Acierto: {(predictions.where(F.col('label_survived') == F.col('prediction'))).count()/predictions.count()}\")\n"
   ]
  },
  {
   "cell_type": "markdown",
   "metadata": {},
   "source": [
    "### Pregunta 6. Evaluación del modelo 1\n",
    "\n",
    "Calcular la matriz de confusión y representarla.\n",
    "\n",
    "Vamos a hacer nuestra propia matriz de confusión a partir de las columnas `prediction` y `label_survived` del dataframe `predictions`. La representaremos como un array de arrays. En nuestro caso al tener solo 2 clases tendra 4 valores como muestra el disguiente diagrama:\n",
    "\n",
    "<img src=\"https://www.nbshare.io/static/snapshots/cm_colored_1-min.png\" width=350>\n",
    "\n",
    "<img src=\"https://www.dataschool.io/content/images/2015/01/confusion_matrix_simple2.png\" width=\"200\">\n",
    "\n"
   ]
  },
  {
   "cell_type": "code",
   "execution_count": 83,
   "metadata": {},
   "outputs": [
    {
     "name": "stderr",
     "output_type": "stream",
     "text": [
      "/home/danrec/.local/lib/python3.10/site-packages/pyspark/sql/context.py:157: FutureWarning: Deprecated in 3.0.0. Use SparkSession.builder.getOrCreate() instead.\n",
      "  warnings.warn(\n"
     ]
    },
    {
     "name": "stdout",
     "output_type": "stream",
     "text": [
      "[[138.  36.]\n",
      " [ 25.  74.]]\n"
     ]
    }
   ],
   "source": [
    "# Sol:\n",
    "\n",
    "from pyspark.mllib.evaluation import MulticlassMetrics\n",
    "mm = MulticlassMetrics(predictions.select(\"prediction\", \"label_survived\").rdd.map(tuple))\n",
    "matriz_de_confusion = mm.confusionMatrix().toArray()\n",
    "\n",
    "print(matriz_de_confusion)\n",
    "matriz_de_confusion"
   ]
  },
  {
   "cell_type": "code",
   "execution_count": 135,
   "metadata": {},
   "outputs": [],
   "source": [
    "# Instalar scikit-learn\n",
    "#!pip install scikit-learn\n"
   ]
  },
  {
   "cell_type": "markdown",
   "metadata": {},
   "source": [
    "### Pregunta 7.  Evaluación del modelo 2\n",
    "\n",
    "\n",
    "Calcular los valores de recall, precision y kappa."
   ]
  },
  {
   "cell_type": "code",
   "execution_count": 109,
   "metadata": {},
   "outputs": [
    {
     "name": "stdout",
     "output_type": "stream",
     "text": [
      "[0.7931034482758621, 0.7474747474747475]\n",
      "[0.8466257668711656, 0.6727272727272727]\n",
      "0.5279360489837572\n"
     ]
    }
   ],
   "source": [
    "# Sol:\n",
    "recall = [mm.recall(0), mm.recall(1)]\n",
    "prec = [mm.precision(0),mm.precision(1)]\n",
    "n = matriz_de_confusion.sum()\n",
    "p_observed = sum(matriz_de_confusion[i, i] for i in range(matriz_de_confusion.shape[0])) / n\n",
    "p_expected = sum((sum(matriz_de_confusion[i, :]) * sum(matriz_de_confusion[:, i])) / n for i in range(matriz_de_confusion.shape[0])) / n\n",
    "kappa = (p_observed - p_expected) / (1 - p_expected)\n",
    "\n",
    "print(recall)\n",
    "print(prec)\n",
    "print(kappa)"
   ]
  },
  {
   "cell_type": "markdown",
   "metadata": {},
   "source": [
    "### Pregunta 8.  Evaluación del modelo 3\n",
    "\n",
    "\n",
    "Area bajo la curva"
   ]
  },
  {
   "cell_type": "code",
   "execution_count": 106,
   "metadata": {},
   "outputs": [
    {
     "data": {
      "image/png": "[encoded data removed]",
      "text/plain": [
       "<Figure size 500x500 with 1 Axes>"
      ]
     },
     "metadata": {},
     "output_type": "display_data"
    }
   ],
   "source": [
    "# Sol:\n",
    "def roc(modelo):    \n",
    "    trainingSummary= modelo.summary\n",
    "    areaUnderROC = trainingSummary.areaUnderROC\n",
    "    \n",
    "    plt.figure(figsize=(5,5))\n",
    "    plt.plot([0, 1], [0, 1], 'r--')\n",
    "    plt.plot(trainingSummary.roc.select('FPR').collect(),\n",
    "             trainingSummary.roc.select('TPR').collect())\n",
    "    plt.xlabel('FPR')\n",
    "    plt.ylabel('TPR')\n",
    "    # Area bajo la curva:\n",
    "    plt.title(f\"areaUnderROC: {areaUnderROC:.3f}\") \n",
    "    plt.show()\n",
    "    \n",
    "roc(trained_lrModel)"
   ]
  },
  {
   "cell_type": "markdown",
   "metadata": {},
   "source": [
    "### Pregunta 9\n",
    "\n",
    "¿Se te ocurre alguna explicación de por qué los datos para una clase son mejores que los de otra? \n",
    "\n",
    "Una frase debe valer"
   ]
  },
  {
   "cell_type": "code",
   "execution_count": 139,
   "metadata": {},
   "outputs": [],
   "source": [
    "# Sol \n",
    "# Seguramente se deba a la cantidad de datos que hay en cada clase en el conjunto de entrenamiento."
   ]
  },
  {
   "cell_type": "markdown",
   "metadata": {},
   "source": [
    "### Pregunta 10\n",
    "\n",
    "Queremos ahora repetir la pregunta 5 pero de forma que aseguremos que de media en el conjunto de entrenamiento haya tantos valores label 0 como 1. Para ello debemos \"retocar\" el test tras el `randomSplit` de la siguiente forma:\n",
    "\n",
    "__a)__ Dividir el conjunto train en 2 dataframes, uno con todos las filas con la columna `label` a  0 y otro con todas las filas con label igual 1. Obtener el número de elementos de ambos conjuntos y calcular el mayor. Puedes usar `filter`. \n",
    "\n",
    "__b)__ Añadir filas al dataframe que menos tenga. para aquipararlo al otro dataframe. Para ello usaremos [sample](https://spark.apache.org/docs/latest/api/python/reference/api/pyspark.sql.DataFrame.sample.html). Para añadir las nuevas filas se puede usar el método `union`. Comprobar que han quedado ambos dataframes con un número parecido de filas (no será el mismo, el método sample devuelve valores aproximados).\n",
    "\n",
    "__c)__ Volver a unir los dos dataframes generando un dataframe `entrena2` que, ahora sí, está equilibrado, y repetir el resto del ejercicio 5 pero con `entrena2` como conjunto de entrenamiento (el test puede ser el mismo) y generando una predicciones `predicciones2`.\n",
    "\n",
    "__d)__ Evalua los resultados"
   ]
  },
  {
   "cell_type": "code",
   "execution_count": 96,
   "metadata": {},
   "outputs": [
    {
     "name": "stdout",
     "output_type": "stream",
     "text": [
      "(375, 243, 0.3932038834951456)\n"
     ]
    }
   ],
   "source": [
    "# Sol a :\n",
    "# a)\n",
    "train_0 = train.where(F.col(\"label_survived\") == 0)\n",
    "train_1 = train.where(F.col(\"label_survived\") == 1)\n",
    "\n",
    "print((train_0.count(),train_1.count(),train_1.count()/(train_1.count()+train_0.count())))"
   ]
  },
  {
   "cell_type": "code",
   "execution_count": 100,
   "metadata": {},
   "outputs": [
    {
     "name": "stdout",
     "output_type": "stream",
     "text": [
      "(375, 378)\n"
     ]
    }
   ],
   "source": [
    "# Sol b :\n",
    "# b) \n",
    "train_1 = train_1.union(train_1.sample((train_0.count() -train_1.count())/train_0.count()))\n",
    "print((train_0.count(),train_1.count()))"
   ]
  },
  {
   "cell_type": "code",
   "execution_count": 102,
   "metadata": {},
   "outputs": [],
   "source": [
    "# Sol c :\n",
    "# c)\n",
    "entrena2 = train_0.union(train_1)\n",
    "lrModel_entrenado = lrModel.fit(entrena2)\n",
    "predicciones = lrModel_entrenado.transform(test)"
   ]
  },
  {
   "cell_type": "code",
   "execution_count": 103,
   "metadata": {},
   "outputs": [
    {
     "name": "stderr",
     "output_type": "stream",
     "text": [
      "/home/danrec/.local/lib/python3.10/site-packages/pyspark/sql/context.py:157: FutureWarning: Deprecated in 3.0.0. Use SparkSession.builder.getOrCreate() instead.\n",
      "  warnings.warn(\n"
     ]
    },
    {
     "name": "stdout",
     "output_type": "stream",
     "text": [
      "[[132.  42.]\n",
      " [ 22.  77.]]\n"
     ]
    }
   ],
   "source": [
    "# Sol d:\n",
    "# d)\n",
    "mm2 = MulticlassMetrics(predicciones.select(\"prediction\", \"label_survived\").rdd.map(tuple))\n",
    "matriz_de_confusion_2 = mm2.confusionMatrix().toArray()\n",
    "\n",
    "print(matriz_de_confusion_2)"
   ]
  },
  {
   "cell_type": "code",
   "execution_count": 113,
   "metadata": {},
   "outputs": [
    {
     "name": "stdout",
     "output_type": "stream",
     "text": [
      "[0.7586206896551724, 0.7777777777777778]\n",
      "[0.8571428571428571, 0.6470588235294118]\n",
      "0.5140186915887849\n"
     ]
    }
   ],
   "source": [
    "# Sol:\n",
    "recall = [mm2.recall(0), mm2.recall(1)]\n",
    "prec = [mm2.precision(0),mm2.precision(1)]\n",
    "n = matriz_de_confusion_2.sum()\n",
    "p_observed = sum(matriz_de_confusion_2[i, i] for i in range(matriz_de_confusion_2.shape[0])) / n\n",
    "p_expected = sum((sum(matriz_de_confusion_2[i, :]) * sum(matriz_de_confusion_2[:, i])) / n for i in range(matriz_de_confusion_2.shape[0])) / n\n",
    "kappa = (p_observed - p_expected) / (1 - p_expected)\n",
    "\n",
    "print(recall)\n",
    "print(prec)\n",
    "print(kappa)"
   ]
  },
  {
   "cell_type": "code",
   "execution_count": 112,
   "metadata": {},
   "outputs": [
    {
     "data": {
      "image/png": "[encoded data removed]",
      "text/plain": [
       "<Figure size 500x500 with 1 Axes>"
      ]
     },
     "metadata": {},
     "output_type": "display_data"
    }
   ],
   "source": [
    "roc(lrModel_entrenado)"
   ]
  },
  {
   "cell_type": "code",
   "execution_count": null,
   "metadata": {},
   "outputs": [],
   "source": []
  }
 ],
 "metadata": {
  "hide_input": false,
  "kernelspec": {
   "display_name": "Python 3 (ipykernel)",
   "language": "python",
   "name": "python3"
  },
  "language_info": {
   "codemirror_mode": {
    "name": "ipython",
    "version": 3
   },
   "file_extension": ".py",
   "mimetype": "text/x-python",
   "name": "python",
   "nbconvert_exporter": "python",
   "pygments_lexer": "ipython3",
   "version": "3.10.12"
  },
  "nbTranslate": {
   "displayLangs": [
    "en",
    "es"
   ],
   "hotkey": "alt-t",
   "langInMainMenu": true,
   "sourceLang": "es",
   "targetLang": "en",
   "useGoogleTranslate": true
  },
  "toc": {
   "base_numbering": 1,
   "nav_menu": {},
   "number_sections": true,
   "sideBar": true,
   "skip_h1_title": false,
   "title_cell": "Table of Contents",
   "title_sidebar": "Contents",
   "toc_cell": false,
   "toc_position": {},
   "toc_section_display": true,
   "toc_window_display": true
  }
 },
 "nbformat": 4,
 "nbformat_minor": 2
}
