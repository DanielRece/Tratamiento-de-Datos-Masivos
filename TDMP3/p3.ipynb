{
 "cells": [
  {
   "cell_type": "markdown",
   "metadata": {},
   "source": [
    "#  Practica 3: RDDs"
   ]
  },
  {
   "cell_type": "code",
   "execution_count": 1,
   "metadata": {},
   "outputs": [],
   "source": [
    "# Curso: TDM - 2023/2024\n",
    "# Nombre: Daniel Mihai\n",
    "# Apellidos: Rece\n",
    "# Fecha: 24/10/2023"
   ]
  },
  {
   "cell_type": "markdown",
   "metadata": {},
   "source": [
    "- Se valorará la claridad del código y evitar redundancias o código poco eficiente; en particular se valorará utilizar las funciones para RDDs de Spark minimizando el uso de Python. \n",
    "- Además de las funciones que se piden se pueden añadir otras auxiliares si se necesitan, y también otros imports.\n",
    "- El código debe funcionar correctamente no solo con las pruebas que vienen de ejemplo sino con cualquier otra prueba.\n"
   ]
  },
  {
   "cell_type": "markdown",
   "metadata": {},
   "source": [
    "## Preparando el entorno"
   ]
  },
  {
   "cell_type": "code",
   "execution_count": 2,
   "metadata": {},
   "outputs": [
    {
     "name": "stdout",
     "output_type": "stream",
     "text": [
      "23/10/24 19:05:47 WARN Utils: Your hostname, danrec-HP-Pavilion-Gaming-Laptop-15-ec0xxx resolves to a loopback address: 127.0.1.1; using 10.8.93.156 instead (on interface wlo1)\n",
      "23/10/24 19:05:47 WARN Utils: Set SPARK_LOCAL_IP if you need to bind to another address\n"
     ]
    },
    {
     "name": "stderr",
     "output_type": "stream",
     "text": [
      "Setting default log level to \"WARN\".\n",
      "To adjust logging level use sc.setLogLevel(newLevel). For SparkR, use setLogLevel(newLevel).\n"
     ]
    },
    {
     "name": "stdout",
     "output_type": "stream",
     "text": [
      "23/10/24 19:05:48 WARN NativeCodeLoader: Unable to load native-hadoop library for your platform... using builtin-java classes where applicable\n"
     ]
    },
    {
     "name": "stderr",
     "output_type": "stream",
     "text": [
      "                                                                                \r"
     ]
    },
    {
     "name": "stdout",
     "output_type": "stream",
     "text": [
      "+-----+\n",
      "| hola|\n",
      "+-----+\n",
      "|spark|\n",
      "+-----+\n",
      "\n"
     ]
    }
   ],
   "source": [
    "import findspark\n",
    "findspark.init()\n",
    "\n",
    "import pyspark                         # only run after findspark.init()\n",
    "from pyspark.sql import SparkSession\n",
    "spark = SparkSession.builder.getOrCreate()\n",
    "sc = spark.sparkContext                        # para trabajar con RDD's\n",
    "\n",
    "df = spark.sql('''select 'spark' as hola ''')\n",
    "df.show()"
   ]
  },
  {
   "cell_type": "markdown",
   "metadata": {},
   "source": [
    "## Descripción del dataset\n",
    "\n",
    "El dataset con el que vamos a trabajar está extraído del portal de datos abiertos de la ciudad de Madrid. Se trata de un fichero con datos metereológicos de la ciudad.\n",
    "\n",
    "La URL es:\n",
    "```\n",
    "https://datos.madrid.es/egob/catalogo/300351-6-meteorologicos-diarios.csv\n",
    "```\n",
    "\n",
    "Intérprete de los datos del fichero:\n",
    "\n",
    "* Se trata de datos diarios del año 2021\n",
    "* Cada registro tiene la siguiente estructura:\n",
    "\n",
    "|PROVINCIA|MUNICIPIO|ESTACION|MAGNITUD|PUNTO_MUESTREO|ANO| MES |D01|V01|D02|V02|\n",
    "|:--------|:--------|:-------|:-------|:-------------|:--|:---|:---|:---|:---|:---|\n",
    "|28 |79| 4| 1| 28079004_82_98| 2019| 1| 18| V |20| V|\n",
    "\n",
    "* El campo `PUNTO_MUESTREO` incluye el código de la estación completo\n",
    "(provincia, municipio y estación) más el parámetro y la técnica de\n",
    "muestreo.\n",
    "* `D01` corresponde al dato del primer día del mes, `D02` al del segundo día\n",
    "y así sucesivamente.\n",
    "* UNICAMENTE SON VÁLIDOS LOS DATOS QUE LLEVAN EL CÓDIGO DE VALIDACIÓN “V\"\n",
    "\n",
    "\n",
    "El fichero se encuentra también aquí: [./data/meteo21.csv](./data/meteo21.csv)"
   ]
  },
  {
   "cell_type": "markdown",
   "metadata": {},
   "source": [
    "## Ejercicios"
   ]
  },
  {
   "cell_type": "markdown",
   "metadata": {},
   "source": [
    "### Crear un RDD con los datos \n",
    "\n",
    "__a)__ Crear un RDD llamado `rdd1` a partir del fichero csv proporcionado. Usa el método `textFile`.<br>\n",
    "__b)__ ¿Cuántas filas tiene el fichero? Usa la operación  `count`.<br> \n",
    "__c)__ ¿Cuántas particiones se han creado? Usa la operación `getNumPartitions`.<br>\n",
    "__d)__ Mostrar las 5 primeras filas.\n"
   ]
  },
  {
   "cell_type": "code",
   "execution_count": 11,
   "metadata": {},
   "outputs": [
    {
     "data": {
      "text/plain": [
       "['PROVINCIA;MUNICIPIO;ESTACION;MAGNITUD;PUNTO_MUESTREO;ANO;MES;D01;V01;D02;V02;D03;V03;D04;V04;D05;V05;D06;V06;D07;V07;D08;V08;D09;V09;D10;V10;D11;V11;D12;V12;D13;V13;D14;V14;D15;V15;D16;V16;D17;V17;D18;V18;D19;V19;D20;V20;D21;V21;D22;V22;D23;V23;D24;V24;D25;V25;D26;V26;D27;V27;D28;V28;D29;V29;D30;V30;D31;V31',\n",
       " '',\n",
       " '28;079;102;81;28079102_81_98;2021;01;02.21;V;01.48;V;01.75;V;01.73;V;00.75;V;01.43;V;01.62;V;02.27;V;00.33;V;02.14;V;00.80;V;00.70;V;00.57;V;00.52;V;00.56;V;00.48;V;00.83;V;00.77;V;00.88;V;01.70;V;03.42;V;04.38;V;03.74;V;03.13;V;03.62;V;01.50;V;01.04;V;00.63;V;00.94;V;04.20;V;03.81;V',\n",
       " '',\n",
       " '28;079;102;81;28079102_81_98;2021;02;03.09;V;02.32;V;01.66;V;01.40;V;02.58;V;01.45;V;02.58;V;03.28;V;03.52;V;03.42;V;01.28;V;02.60;V;01.28;V;01.28;V;01.92;V;01.36;V;00.98;V;01.46;V;01.34;V;02.23;V;03.26;V;02.07;V;01.31;V;02.49;V;02.32;V;01.51;V;01.48;V;03.11;V;00000;N;00000;N;00000;N']"
      ]
     },
     "execution_count": 11,
     "metadata": {},
     "output_type": "execute_result"
    }
   ],
   "source": [
    "# Sol: Rows:  1057, Particiones:  \n",
    "path = \"./data/meteo21.csv\"\n",
    "rdd1 = sc.textFile(path)\n",
    "rdd1.count()\n",
    "rdd1.getNumPartitions()\n",
    "rdd1.take(5)"
   ]
  },
  {
   "cell_type": "markdown",
   "metadata": {},
   "source": [
    "### Gestión de filas vacías\n",
    "\n",
    "Comprobar que no hay filas vacías ('') en el conjunto de datos. Puedes usar la operación  `filter` para seleccionar las filas cuyo valor es esactamente ''. Luego puedes contar las filas que hay en el resultado."
   ]
  },
  {
   "cell_type": "code",
   "execution_count": 13,
   "metadata": {},
   "outputs": [
    {
     "data": {
      "text/plain": [
       "4"
      ]
     },
     "execution_count": 13,
     "metadata": {},
     "output_type": "execute_result"
    }
   ],
   "source": [
    "# Sol: 4\n",
    "rdd1.filter(lambda x:x==\"\").count()"
   ]
  },
  {
   "cell_type": "markdown",
   "metadata": {},
   "source": [
    "### Eliminar filas vacías\n",
    "\n",
    "Elimina las filas vacías y vuelve a comprobar que no hay filas vacías ('') en el conjunto de datos. Puedes usar la operación  `filter` para seleccionar las filas cuyo valor es esactamente ''. El RDD resultante es justo lo que buscamos. Lo llamaremos `rdd1`. No hay operación `delete`  como tal."
   ]
  },
  {
   "cell_type": "code",
   "execution_count": 14,
   "metadata": {},
   "outputs": [],
   "source": [
    "# Sol:\n",
    "rdd1 = rdd1.filter(lambda x:x!=\"\")"
   ]
  },
  {
   "cell_type": "markdown",
   "metadata": {},
   "source": [
    "### Lista de filas\n",
    "\n",
    "El `rdd1` creado en el apartado anterior es un RDD de strings sin filas vacías. <br>\n",
    "__a)__ Transformarlo de forma que cada string en `rdd1`, se convierta en una lista de strings, es decir separar sus componentes (recordar que la función `split` divide un string según una cadena de separación). Esto nos permitirá trabajar con los datos de forma separada. Llamar al resultado `rdd2`.<br>\n",
    "__b)__ Mostrar las 5 primeras filas. Observar la primera fila."
   ]
  },
  {
   "cell_type": "code",
   "execution_count": 17,
   "metadata": {},
   "outputs": [
    {
     "data": {
      "text/plain": [
       "[['PROVINCIA',\n",
       "  'MUNICIPIO',\n",
       "  'ESTACION',\n",
       "  'MAGNITUD',\n",
       "  'PUNTO_MUESTREO',\n",
       "  'ANO',\n",
       "  'MES',\n",
       "  'D01',\n",
       "  'V01',\n",
       "  'D02',\n",
       "  'V02',\n",
       "  'D03',\n",
       "  'V03',\n",
       "  'D04',\n",
       "  'V04',\n",
       "  'D05',\n",
       "  'V05',\n",
       "  'D06',\n",
       "  'V06',\n",
       "  'D07',\n",
       "  'V07',\n",
       "  'D08',\n",
       "  'V08',\n",
       "  'D09',\n",
       "  'V09',\n",
       "  'D10',\n",
       "  'V10',\n",
       "  'D11',\n",
       "  'V11',\n",
       "  'D12',\n",
       "  'V12',\n",
       "  'D13',\n",
       "  'V13',\n",
       "  'D14',\n",
       "  'V14',\n",
       "  'D15',\n",
       "  'V15',\n",
       "  'D16',\n",
       "  'V16',\n",
       "  'D17',\n",
       "  'V17',\n",
       "  'D18',\n",
       "  'V18',\n",
       "  'D19',\n",
       "  'V19',\n",
       "  'D20',\n",
       "  'V20',\n",
       "  'D21',\n",
       "  'V21',\n",
       "  'D22',\n",
       "  'V22',\n",
       "  'D23',\n",
       "  'V23',\n",
       "  'D24',\n",
       "  'V24',\n",
       "  'D25',\n",
       "  'V25',\n",
       "  'D26',\n",
       "  'V26',\n",
       "  'D27',\n",
       "  'V27',\n",
       "  'D28',\n",
       "  'V28',\n",
       "  'D29',\n",
       "  'V29',\n",
       "  'D30',\n",
       "  'V30',\n",
       "  'D31',\n",
       "  'V31'],\n",
       " ['28',\n",
       "  '079',\n",
       "  '102',\n",
       "  '81',\n",
       "  '28079102_81_98',\n",
       "  '2021',\n",
       "  '01',\n",
       "  '02.21',\n",
       "  'V',\n",
       "  '01.48',\n",
       "  'V',\n",
       "  '01.75',\n",
       "  'V',\n",
       "  '01.73',\n",
       "  'V',\n",
       "  '00.75',\n",
       "  'V',\n",
       "  '01.43',\n",
       "  'V',\n",
       "  '01.62',\n",
       "  'V',\n",
       "  '02.27',\n",
       "  'V',\n",
       "  '00.33',\n",
       "  'V',\n",
       "  '02.14',\n",
       "  'V',\n",
       "  '00.80',\n",
       "  'V',\n",
       "  '00.70',\n",
       "  'V',\n",
       "  '00.57',\n",
       "  'V',\n",
       "  '00.52',\n",
       "  'V',\n",
       "  '00.56',\n",
       "  'V',\n",
       "  '00.48',\n",
       "  'V',\n",
       "  '00.83',\n",
       "  'V',\n",
       "  '00.77',\n",
       "  'V',\n",
       "  '00.88',\n",
       "  'V',\n",
       "  '01.70',\n",
       "  'V',\n",
       "  '03.42',\n",
       "  'V',\n",
       "  '04.38',\n",
       "  'V',\n",
       "  '03.74',\n",
       "  'V',\n",
       "  '03.13',\n",
       "  'V',\n",
       "  '03.62',\n",
       "  'V',\n",
       "  '01.50',\n",
       "  'V',\n",
       "  '01.04',\n",
       "  'V',\n",
       "  '00.63',\n",
       "  'V',\n",
       "  '00.94',\n",
       "  'V',\n",
       "  '04.20',\n",
       "  'V',\n",
       "  '03.81',\n",
       "  'V'],\n",
       " ['28',\n",
       "  '079',\n",
       "  '102',\n",
       "  '81',\n",
       "  '28079102_81_98',\n",
       "  '2021',\n",
       "  '02',\n",
       "  '03.09',\n",
       "  'V',\n",
       "  '02.32',\n",
       "  'V',\n",
       "  '01.66',\n",
       "  'V',\n",
       "  '01.40',\n",
       "  'V',\n",
       "  '02.58',\n",
       "  'V',\n",
       "  '01.45',\n",
       "  'V',\n",
       "  '02.58',\n",
       "  'V',\n",
       "  '03.28',\n",
       "  'V',\n",
       "  '03.52',\n",
       "  'V',\n",
       "  '03.42',\n",
       "  'V',\n",
       "  '01.28',\n",
       "  'V',\n",
       "  '02.60',\n",
       "  'V',\n",
       "  '01.28',\n",
       "  'V',\n",
       "  '01.28',\n",
       "  'V',\n",
       "  '01.92',\n",
       "  'V',\n",
       "  '01.36',\n",
       "  'V',\n",
       "  '00.98',\n",
       "  'V',\n",
       "  '01.46',\n",
       "  'V',\n",
       "  '01.34',\n",
       "  'V',\n",
       "  '02.23',\n",
       "  'V',\n",
       "  '03.26',\n",
       "  'V',\n",
       "  '02.07',\n",
       "  'V',\n",
       "  '01.31',\n",
       "  'V',\n",
       "  '02.49',\n",
       "  'V',\n",
       "  '02.32',\n",
       "  'V',\n",
       "  '01.51',\n",
       "  'V',\n",
       "  '01.48',\n",
       "  'V',\n",
       "  '03.11',\n",
       "  'V',\n",
       "  '00000',\n",
       "  'N',\n",
       "  '00000',\n",
       "  'N',\n",
       "  '00000',\n",
       "  'N'],\n",
       " ['28',\n",
       "  '079',\n",
       "  '102',\n",
       "  '81',\n",
       "  '28079102_81_98',\n",
       "  '2021',\n",
       "  '03',\n",
       "  '02.61',\n",
       "  'V',\n",
       "  '01.54',\n",
       "  'V',\n",
       "  '00.99',\n",
       "  'V',\n",
       "  '01.02',\n",
       "  'V',\n",
       "  '01.45',\n",
       "  'V',\n",
       "  '01.75',\n",
       "  'V',\n",
       "  '01.42',\n",
       "  'V',\n",
       "  '01.10',\n",
       "  'V',\n",
       "  '02.54',\n",
       "  'V',\n",
       "  '01.30',\n",
       "  'V',\n",
       "  '01.78',\n",
       "  'V',\n",
       "  '01.82',\n",
       "  'V',\n",
       "  '01.50',\n",
       "  'V',\n",
       "  '01.50',\n",
       "  'V',\n",
       "  '02.44',\n",
       "  'V',\n",
       "  '05.27',\n",
       "  'V',\n",
       "  '05.44',\n",
       "  'V',\n",
       "  '03.76',\n",
       "  'V',\n",
       "  '02.73',\n",
       "  'V',\n",
       "  '04.11',\n",
       "  'V',\n",
       "  '01.75',\n",
       "  'V',\n",
       "  '01.39',\n",
       "  'V',\n",
       "  '01.11',\n",
       "  'V',\n",
       "  '01.50',\n",
       "  'V',\n",
       "  '01.57',\n",
       "  'V',\n",
       "  '02.25',\n",
       "  'V',\n",
       "  '02.39',\n",
       "  'V',\n",
       "  '02.70',\n",
       "  'V',\n",
       "  '02.96',\n",
       "  'V',\n",
       "  '03.09',\n",
       "  'V',\n",
       "  '02.95',\n",
       "  'V'],\n",
       " ['28',\n",
       "  '079',\n",
       "  '102',\n",
       "  '81',\n",
       "  '28079102_81_98',\n",
       "  '2021',\n",
       "  '04',\n",
       "  '02.52',\n",
       "  'V',\n",
       "  '01.45',\n",
       "  'V',\n",
       "  '01.40',\n",
       "  'V',\n",
       "  '01.90',\n",
       "  'V',\n",
       "  '01.59',\n",
       "  'V',\n",
       "  '01.54',\n",
       "  'V',\n",
       "  '03.09',\n",
       "  'V',\n",
       "  '02.21',\n",
       "  'V',\n",
       "  '01.89',\n",
       "  'V',\n",
       "  '01.72',\n",
       "  'V',\n",
       "  '02.09',\n",
       "  'V',\n",
       "  '02.53',\n",
       "  'V',\n",
       "  '01.84',\n",
       "  'V',\n",
       "  '02.14',\n",
       "  'V',\n",
       "  '02.29',\n",
       "  'V',\n",
       "  '01.87',\n",
       "  'V',\n",
       "  '02.79',\n",
       "  'V',\n",
       "  '02.05',\n",
       "  'V',\n",
       "  '01.55',\n",
       "  'V',\n",
       "  '01.24',\n",
       "  'V',\n",
       "  '02.07',\n",
       "  'V',\n",
       "  '01.28',\n",
       "  'V',\n",
       "  '03.27',\n",
       "  'V',\n",
       "  '03.52',\n",
       "  'V',\n",
       "  '02.07',\n",
       "  'V',\n",
       "  '01.28',\n",
       "  'V',\n",
       "  '01.28',\n",
       "  'V',\n",
       "  '01.92',\n",
       "  'V',\n",
       "  '03.10',\n",
       "  'V',\n",
       "  '01.77',\n",
       "  'V',\n",
       "  '00000',\n",
       "  'N']]"
      ]
     },
     "execution_count": 17,
     "metadata": {},
     "output_type": "execute_result"
    }
   ],
   "source": [
    "# Sol:\n",
    "rdd2 = rdd1.map(lambda x : x.split(\";\"))\n",
    "rdd2.take(5)"
   ]
  },
  {
   "cell_type": "markdown",
   "metadata": {},
   "source": [
    "### Eliminar la fila de títulos\n",
    "\n",
    "__a)__ Crear un nuevo RDD que no contenga la fila de títulos. Llámalo `rdd3`. (El rdd recién creado tiene 1052 filas).<br>\n",
    "__b)__ Crear una variable de tipo `list` llamada `columns` que sea una lista de las columnas del fichero. (La lista recién creada tiene 69 elementos)."
   ]
  },
  {
   "cell_type": "code",
   "execution_count": 58,
   "metadata": {},
   "outputs": [
    {
     "data": {
      "text/plain": [
       "1052"
      ]
     },
     "execution_count": 58,
     "metadata": {},
     "output_type": "execute_result"
    }
   ],
   "source": [
    "# Sol a:\n",
    "primer_elemento = rdd2.first()\n",
    "rdd3 = rdd2.filter(lambda x:x!=primer_elemento)\n",
    "rdd3.count()"
   ]
  },
  {
   "cell_type": "code",
   "execution_count": 57,
   "metadata": {},
   "outputs": [
    {
     "data": {
      "text/plain": [
       "69"
      ]
     },
     "execution_count": 57,
     "metadata": {},
     "output_type": "execute_result"
    }
   ],
   "source": [
    "# Sol b\n",
    "columns = []\n",
    "for i in range(len(rdd3.first())):\n",
    "    column = (rdd3.map(lambda x: x[i])).collect()\n",
    "    columns.append(column)\n",
    "len(columns)"
   ]
  },
  {
   "cell_type": "markdown",
   "metadata": {},
   "source": [
    "###  Comprobación de tipos\n",
    "\n",
    "Las columnas D01, D02,...,D31 contienen el dato recogido por la estación (sensor) para una cierta magnitud. Nos interesa comprobar que el dato es un número real en todas las medicciones.\n",
    "\n",
    "__a)__ Escribir código Python para crear la lista de posiciones que ocupan las variables D01, D02,...,D31. Llamar a la variable `posD`. Observa que dichas variables aparecerán después de la columna 'MES'.<br>\n",
    "__b)__ La siguiente función devuelve True si el dato es un número (o se puede transformar a número). En caso contrario devuelve False.<br>\n",
    "\n",
    "```Python\n",
    "def is_number(n):\n",
    "    try:\n",
    "        float(n)   # Type-casting the string to `float`.\n",
    "                   # If string is not a valid `float`, \n",
    "                   # it'll raise `ValueError` exception\n",
    "    except ValueError:\n",
    "        return False\n",
    "    return True\n",
    "```\n",
    "Escribir una función llamada `contar_No_numero` que recibe como parámetros de entrada una fila del RDD y una lista de  posiciones de columnas $(n_1, n_2, ... n_m)$, y devuelve la lista de pares del tipo (clave, valor), donde la clave es el número de columna y el valor es False si el dato en la columna es numérico y True en caso contrario. Por ejemplo:\n",
    "$[(n_1, True), (n_2,False), ... (n_m,True)]$ indicando que la columna $n_1$ es numérica, mientras que la columna $n_2$ no lo es.\n",
    "\n",
    "__c)__ Aplicar la función anterior al rdd3 completo para construir un nuevo rdd4 con el siguiente aspecto:\n",
    "```Python\n",
    "[(7, 0),\n",
    " (9, 0),\n",
    " (11, 0),\n",
    " (13, 0), ...\n",
    "```\n",
    "La clave representa una columna del rdd3, mientras que el valor representa el número de valores en la columna que no son numéricos.\n",
    "Puedes usar operaciones como `flatMap` y `reduceByKey` para resolver el ejercicio.\n"
   ]
  },
  {
   "cell_type": "code",
   "execution_count": 68,
   "metadata": {},
   "outputs": [],
   "source": [
    "def is_number(n):\n",
    "    try:\n",
    "        float(n)   # Type-casting the string to `float`.\n",
    "                   # If string is not a valid `float`, \n",
    "                   # it'll raise `ValueError` exception\n",
    "    except ValueError:\n",
    "        return False\n",
    "    return True\n",
    "\n",
    "\n",
    "posD=[]\n",
    "for i in range(len(primer_elemento)):\n",
    "    if primer_elemento[i][0]== \"D\":\n",
    "        posD.append(i)\n",
    "\n",
    "def contar_No_numero(fila, posiciones):\n",
    "    devolucion = []\n",
    "    for elem in posiciones:\n",
    "        devolucion.append((elem, is_number(fila[elem])))\n",
    "    return devolucion\n",
    "\n",
    "rdd4 = rdd3.map(lambda x: contar_No_numero(x,posD))"
   ]
  },
  {
   "cell_type": "code",
   "execution_count": 69,
   "metadata": {},
   "outputs": [
    {
     "data": {
      "text/plain": [
       "[[(7, True),\n",
       "  (9, True),\n",
       "  (11, True),\n",
       "  (13, True),\n",
       "  (15, True),\n",
       "  (17, True),\n",
       "  (19, True),\n",
       "  (21, True),\n",
       "  (23, True),\n",
       "  (25, True),\n",
       "  (27, True),\n",
       "  (29, True),\n",
       "  (31, True),\n",
       "  (33, True),\n",
       "  (35, True),\n",
       "  (37, True),\n",
       "  (39, True),\n",
       "  (41, True),\n",
       "  (43, True),\n",
       "  (45, True),\n",
       "  (47, True),\n",
       "  (49, True),\n",
       "  (51, True),\n",
       "  (53, True),\n",
       "  (55, True),\n",
       "  (57, True),\n",
       "  (59, True),\n",
       "  (61, True),\n",
       "  (63, True),\n",
       "  (65, True),\n",
       "  (67, True)]]"
      ]
     },
     "execution_count": 69,
     "metadata": {},
     "output_type": "execute_result"
    }
   ],
   "source": [
    "rdd4.take(1)"
   ]
  },
  {
   "cell_type": "code",
   "execution_count": 70,
   "metadata": {},
   "outputs": [],
   "source": [
    "# Sol \n",
    "import operator as op"
   ]
  },
  {
   "cell_type": "markdown",
   "metadata": {},
   "source": [
    "### Conversión de tipos\n",
    "\n",
    "Dado que todos los valores en las columnas de `posD` son números reales válidos, generar código para convertir los strings de las posiciones en `posD` en float (con la función predefinida float(x)). Llamar `raw4` al RDD resultante.\n",
    "Se valorará hacerlo reduciendo al mínimo el número de recorridos de `rdd3`. Usa la operación `map`."
   ]
  },
  {
   "cell_type": "code",
   "execution_count": 129,
   "metadata": {},
   "outputs": [],
   "source": [
    "# Sol:\n",
    "def number(n):\n",
    "    try:\n",
    "        float(n)   # Type-casting the string to `float`.\n",
    "                   # If string is not a valid `float`, \n",
    "                   # it'll raise `ValueError` exception\n",
    "    except ValueError:\n",
    "        return n\n",
    "    return float(n)\n",
    "\n",
    "def other_is_number(n):\n",
    "    try:\n",
    "        float(n)   # Type-casting the string to `float`.\n",
    "                   # If string is not a valid `float`, \n",
    "                   # it'll raise `ValueError` exception\n",
    "    except ValueError:\n",
    "        return \"N\"\n",
    "    return \"S\"\n",
    "\n",
    "raw4 = rdd3.map(lambda x: [number(x[i]) if i in posD else x[i] for i in range(len(x))])"
   ]
  },
  {
   "cell_type": "markdown",
   "metadata": {},
   "source": [
    "### Aplanar el RDD por días\n",
    "\n",
    "Queremos cambiar el RDD `raw4`  para que cada día sea un elemento nuevo del RDD. Por ejemplo el elemento\n",
    "```Python\n",
    "[['28','079','102','81','28079102_81_98','2021','01',2.21,'V',1.48, 'V', 1.75,'V',  1.73, ...]\n",
    " ```\n",
    "se convertira en 31 elementos, uno por día (nótese que se incluye una nueva columna con el número de día)    \n",
    "```Python\n",
    "    ['28','079','102','81','28079102_81_98','2021','01', 'D01', 2.21,'V']\n",
    "    ['28','079','102','81','28079102_81_98','2021','01', 'D02', 1.48,'V']\n",
    "    ...\n",
    "    ['28','079','102','81','28079102_81_98','2021','02', 'D31', 0,'N']\n",
    "```\n",
    "\n",
    "Puedes usar la operación `flatMap` .Llamar `rdd5` al nuevo RDD"
   ]
  },
  {
   "cell_type": "code",
   "execution_count": 142,
   "metadata": {},
   "outputs": [
    {
     "data": {
      "text/plain": [
       "[['28', '079', '102', '81', '28079102_81_98', '2021', '01', 'D00', 2.21, 'S'],\n",
       " ['28', '079', '102', '81', '28079102_81_98', '2021', '01', 'D01', 1.48, 'S'],\n",
       " ['28', '079', '102', '81', '28079102_81_98', '2021', '01', 'D02', 1.75, 'S']]"
      ]
     },
     "execution_count": 142,
     "metadata": {},
     "output_type": "execute_result"
    }
   ],
   "source": [
    "# Sol:\n",
    "def separar_valores(fila, posiciones):\n",
    "    resultado = []\n",
    "    primera_pos = min(posiciones)\n",
    "    for i in range(len(posiciones)-1):  # Asegurarse de no exceder el índice\n",
    "        j = str(i).zfill(2)\n",
    "        cabecera = fila[:primera_pos] + [f\"D{j}\", fila[posiciones[i]], other_is_number(fila[posiciones[i]])]\n",
    "        resultado.append(cabecera)\n",
    "    return resultado\n",
    "\n",
    "rdd5 = raw4.flatMap(lambda x: separar_valores(x,posD))\n",
    "rdd5.take(3)"
   ]
  },
  {
   "cell_type": "markdown",
   "metadata": {},
   "source": [
    "### Borrado de filas erróneas\n",
    "Ahora queremos eliminar todas las filas del rdd5 que tengan algún valor no válido (distinto de 'V').\n",
    "\n",
    "__a)__ Escribir una función `removeNonValid(rdd)\n",
    "\n",
    "- `name`: removeNonValid\n",
    "- `desc`: Elimina las filas con dato no válido\n",
    "- `input parameters`:\n",
    "    - rdd: un RDD de listas de strings\n",
    "- `return`: el rdd de entrada pero quedándose solo con los elementos que tengan una 'V' en el último campo.\n",
    "\n",
    "__b)__ Eliminar la última columna."
   ]
  },
  {
   "cell_type": "code",
   "execution_count": 143,
   "metadata": {},
   "outputs": [],
   "source": [
    "# Sol a) el rdd resultante tiene  31045 filas\n",
    "def removeNonValid(rdd):\n",
    "    rdd = rdd.filter(lambda x: x[len(x)-1] == \"S\")\n",
    "removeNonValid(rdd5)"
   ]
  },
  {
   "cell_type": "code",
   "execution_count": 145,
   "metadata": {},
   "outputs": [
    {
     "data": {
      "text/plain": [
       "[['28', '079', '102', '81', '28079102_81_98', '2021', '01', 'D00', 2.21]]"
      ]
     },
     "execution_count": 145,
     "metadata": {},
     "output_type": "execute_result"
    }
   ],
   "source": [
    "# Sol b)\n",
    "rdd5 = rdd5.map(lambda x: x[:len(x)-1])\n",
    "rdd5.take(1)"
   ]
  },
  {
   "cell_type": "markdown",
   "metadata": {},
   "source": [
    "### Estadísticas\n",
    "\n",
    "Calcular la media del valor recogido (el dato de la última columna) por punto de muestreo (columna 5ª, pos 4) y día (columna 7ª, pos 6). Se deben usar recursos de Spark y el resultado debe salir por orden de punto de muestreo  y dentro del mismo punto de muestreo por día. La salida será de la forma:\n",
    "\n",
    "```Python\n",
    "[['28079004_83_98', '01', 0.4875],\n",
    " ['28079004_83_98', '02', 9.788],\n",
    " ['28079004_83_98', '03', 11.0],\n",
    " ['28079004_83_98', '04', 13.15],\n",
    " ['28079004_83_98', '05', 18.196774193548386],\n",
    " ['28079004_83_98', '06', 22.666666666666668],\n",
    " ['28079004_83_98', '07', 25.87741935483871],\n",
    " ['28079004_83_98', '08', 26.246153846153845],\n",
    " ['28079004_83_98', '09', 20.453333333333333],\n",
    "  ...\n",
    "  ```"
   ]
  },
  {
   "cell_type": "code",
   "execution_count": 146,
   "metadata": {},
   "outputs": [],
   "source": [
    "from statistics import mean\n",
    "# Sol:\n",
    "def obtener_claves(fila):\n",
    "    return fila[4], fila[6]\n",
    "def obtener_valor(fila):\n",
    "    return fila[len(fila)-1]\n",
    "\n",
    "final = rdd5.groupBy(obtener_claves).mapValues(lambda filas: mean([obtener_valor(f) for f in filas]))\n"
   ]
  },
  {
   "cell_type": "code",
   "execution_count": 147,
   "metadata": {},
   "outputs": [
    {
     "data": {
      "text/plain": [
       "[(('28079102_81_98', '01'), 1.6706666666666667),\n",
       " (('28079102_81_98', '02'), 1.9526666666666666),\n",
       " (('28079102_81_98', '04'), 2.042),\n",
       " (('28079102_81_98', '08'), 2.0383333333333336),\n",
       " (('28079102_81_98', '11'), 1.764),\n",
       " (('28079102_82_98', '01'), 122.26666666666667),\n",
       " (('28079102_82_98', '02'), 125.66666666666667),\n",
       " (('28079102_82_98', '04'), 106.33333333333333),\n",
       " (('28079102_82_98', '08'), 96.63333333333334),\n",
       " (('28079102_82_98', '11'), 65.33333333333333)]"
      ]
     },
     "execution_count": 147,
     "metadata": {},
     "output_type": "execute_result"
    }
   ],
   "source": [
    "final.take(10)"
   ]
  },
  {
   "cell_type": "markdown",
   "metadata": {},
   "source": [
    "No olvides subir el notebook a la entrega del Campus Virtual."
   ]
  }
 ],
 "metadata": {
  "hide_input": false,
  "kernelspec": {
   "display_name": "Python 3 (ipykernel)",
   "language": "python",
   "name": "python3"
  },
  "language_info": {
   "codemirror_mode": {
    "name": "ipython",
    "version": 3
   },
   "file_extension": ".py",
   "mimetype": "text/x-python",
   "name": "python",
   "nbconvert_exporter": "python",
   "pygments_lexer": "ipython3",
   "version": "3.10.12"
  },
  "nbTranslate": {
   "displayLangs": [
    "en",
    "es"
   ],
   "hotkey": "alt-t",
   "langInMainMenu": true,
   "sourceLang": "es",
   "targetLang": "en",
   "useGoogleTranslate": true
  },
  "toc": {
   "base_numbering": 1,
   "nav_menu": {},
   "number_sections": true,
   "sideBar": true,
   "skip_h1_title": false,
   "title_cell": "Table of Contents",
   "title_sidebar": "Contents",
   "toc_cell": false,
   "toc_position": {
    "height": "calc(100% - 180px)",
    "left": "10px",
    "top": "150px",
    "width": "280.267px"
   },
   "toc_section_display": true,
   "toc_window_display": true
  }
 },
 "nbformat": 4,
 "nbformat_minor": 4
}
